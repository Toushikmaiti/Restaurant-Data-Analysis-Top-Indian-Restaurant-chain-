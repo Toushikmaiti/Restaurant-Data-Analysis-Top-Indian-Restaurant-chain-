{
 "cells": [
  {
   "cell_type": "markdown",
   "id": "df718903",
   "metadata": {},
   "source": [
    "### Zomato dataset Analysis"
   ]
  },
  {
   "cell_type": "code",
   "execution_count": 1,
   "id": "9f3aa258",
   "metadata": {},
   "outputs": [],
   "source": [
    "import pandas as pd\n",
    "import numpy as np\n",
    "import seaborn as sns\n",
    "import matplotlib.pyplot as plt\n",
    "# plt.style.use(\"dark_background\")"
   ]
  },
  {
   "cell_type": "markdown",
   "id": "ceb69217",
   "metadata": {},
   "source": [
    "#### Read CSV File"
   ]
  },
  {
   "cell_type": "code",
   "execution_count": 2,
   "id": "d3058b87",
   "metadata": {},
   "outputs": [],
   "source": [
    "df = pd.read_csv(\"D:/Data Analyst/Data Analyst_Stydy Materials/Zomato dataset/zomato.csv\")"
   ]
  },
  {
   "cell_type": "code",
   "execution_count": 3,
   "id": "028cf769",
   "metadata": {},
   "outputs": [
    {
     "data": {
      "text/html": [
       "<div>\n",
       "<style scoped>\n",
       "    .dataframe tbody tr th:only-of-type {\n",
       "        vertical-align: middle;\n",
       "    }\n",
       "\n",
       "    .dataframe tbody tr th {\n",
       "        vertical-align: top;\n",
       "    }\n",
       "\n",
       "    .dataframe thead th {\n",
       "        text-align: right;\n",
       "    }\n",
       "</style>\n",
       "<table border=\"1\" class=\"dataframe\">\n",
       "  <thead>\n",
       "    <tr style=\"text-align: right;\">\n",
       "      <th></th>\n",
       "      <th>url</th>\n",
       "      <th>address</th>\n",
       "      <th>name</th>\n",
       "      <th>online_order</th>\n",
       "      <th>book_table</th>\n",
       "      <th>rate</th>\n",
       "      <th>votes</th>\n",
       "      <th>phone</th>\n",
       "      <th>location</th>\n",
       "      <th>rest_type</th>\n",
       "      <th>dish_liked</th>\n",
       "      <th>cuisines</th>\n",
       "      <th>approx_cost(for two people)</th>\n",
       "      <th>reviews_list</th>\n",
       "      <th>menu_item</th>\n",
       "      <th>listed_in(type)</th>\n",
       "      <th>listed_in(city)</th>\n",
       "    </tr>\n",
       "  </thead>\n",
       "  <tbody>\n",
       "    <tr>\n",
       "      <th>0</th>\n",
       "      <td>https://www.zomato.com/bangalore/jalsa-banasha...</td>\n",
       "      <td>942, 21st Main Road, 2nd Stage, Banashankari, ...</td>\n",
       "      <td>Jalsa</td>\n",
       "      <td>Yes</td>\n",
       "      <td>Yes</td>\n",
       "      <td>4.1/5</td>\n",
       "      <td>775</td>\n",
       "      <td>080 42297555\\r\\n+91 9743772233</td>\n",
       "      <td>Banashankari</td>\n",
       "      <td>Casual Dining</td>\n",
       "      <td>Pasta, Lunch Buffet, Masala Papad, Paneer Laja...</td>\n",
       "      <td>North Indian, Mughlai, Chinese</td>\n",
       "      <td>800</td>\n",
       "      <td>[('Rated 4.0', 'RATED\\n  A beautiful place to ...</td>\n",
       "      <td>[]</td>\n",
       "      <td>Buffet</td>\n",
       "      <td>Banashankari</td>\n",
       "    </tr>\n",
       "    <tr>\n",
       "      <th>1</th>\n",
       "      <td>https://www.zomato.com/bangalore/spice-elephan...</td>\n",
       "      <td>2nd Floor, 80 Feet Road, Near Big Bazaar, 6th ...</td>\n",
       "      <td>Spice Elephant</td>\n",
       "      <td>Yes</td>\n",
       "      <td>No</td>\n",
       "      <td>4.1/5</td>\n",
       "      <td>787</td>\n",
       "      <td>080 41714161</td>\n",
       "      <td>Banashankari</td>\n",
       "      <td>Casual Dining</td>\n",
       "      <td>Momos, Lunch Buffet, Chocolate Nirvana, Thai G...</td>\n",
       "      <td>Chinese, North Indian, Thai</td>\n",
       "      <td>800</td>\n",
       "      <td>[('Rated 4.0', 'RATED\\n  Had been here for din...</td>\n",
       "      <td>[]</td>\n",
       "      <td>Buffet</td>\n",
       "      <td>Banashankari</td>\n",
       "    </tr>\n",
       "    <tr>\n",
       "      <th>2</th>\n",
       "      <td>https://www.zomato.com/SanchurroBangalore?cont...</td>\n",
       "      <td>1112, Next to KIMS Medical College, 17th Cross...</td>\n",
       "      <td>San Churro Cafe</td>\n",
       "      <td>Yes</td>\n",
       "      <td>No</td>\n",
       "      <td>3.8/5</td>\n",
       "      <td>918</td>\n",
       "      <td>+91 9663487993</td>\n",
       "      <td>Banashankari</td>\n",
       "      <td>Cafe, Casual Dining</td>\n",
       "      <td>Churros, Cannelloni, Minestrone Soup, Hot Choc...</td>\n",
       "      <td>Cafe, Mexican, Italian</td>\n",
       "      <td>800</td>\n",
       "      <td>[('Rated 3.0', \"RATED\\n  Ambience is not that ...</td>\n",
       "      <td>[]</td>\n",
       "      <td>Buffet</td>\n",
       "      <td>Banashankari</td>\n",
       "    </tr>\n",
       "    <tr>\n",
       "      <th>3</th>\n",
       "      <td>https://www.zomato.com/bangalore/addhuri-udupi...</td>\n",
       "      <td>1st Floor, Annakuteera, 3rd Stage, Banashankar...</td>\n",
       "      <td>Addhuri Udupi Bhojana</td>\n",
       "      <td>No</td>\n",
       "      <td>No</td>\n",
       "      <td>3.7/5</td>\n",
       "      <td>88</td>\n",
       "      <td>+91 9620009302</td>\n",
       "      <td>Banashankari</td>\n",
       "      <td>Quick Bites</td>\n",
       "      <td>Masala Dosa</td>\n",
       "      <td>South Indian, North Indian</td>\n",
       "      <td>300</td>\n",
       "      <td>[('Rated 4.0', \"RATED\\n  Great food and proper...</td>\n",
       "      <td>[]</td>\n",
       "      <td>Buffet</td>\n",
       "      <td>Banashankari</td>\n",
       "    </tr>\n",
       "    <tr>\n",
       "      <th>4</th>\n",
       "      <td>https://www.zomato.com/bangalore/grand-village...</td>\n",
       "      <td>10, 3rd Floor, Lakshmi Associates, Gandhi Baza...</td>\n",
       "      <td>Grand Village</td>\n",
       "      <td>No</td>\n",
       "      <td>No</td>\n",
       "      <td>3.8/5</td>\n",
       "      <td>166</td>\n",
       "      <td>+91 8026612447\\r\\n+91 9901210005</td>\n",
       "      <td>Basavanagudi</td>\n",
       "      <td>Casual Dining</td>\n",
       "      <td>Panipuri, Gol Gappe</td>\n",
       "      <td>North Indian, Rajasthani</td>\n",
       "      <td>600</td>\n",
       "      <td>[('Rated 4.0', 'RATED\\n  Very good restaurant ...</td>\n",
       "      <td>[]</td>\n",
       "      <td>Buffet</td>\n",
       "      <td>Banashankari</td>\n",
       "    </tr>\n",
       "  </tbody>\n",
       "</table>\n",
       "</div>"
      ],
      "text/plain": [
       "                                                 url  \\\n",
       "0  https://www.zomato.com/bangalore/jalsa-banasha...   \n",
       "1  https://www.zomato.com/bangalore/spice-elephan...   \n",
       "2  https://www.zomato.com/SanchurroBangalore?cont...   \n",
       "3  https://www.zomato.com/bangalore/addhuri-udupi...   \n",
       "4  https://www.zomato.com/bangalore/grand-village...   \n",
       "\n",
       "                                             address                   name  \\\n",
       "0  942, 21st Main Road, 2nd Stage, Banashankari, ...                  Jalsa   \n",
       "1  2nd Floor, 80 Feet Road, Near Big Bazaar, 6th ...         Spice Elephant   \n",
       "2  1112, Next to KIMS Medical College, 17th Cross...        San Churro Cafe   \n",
       "3  1st Floor, Annakuteera, 3rd Stage, Banashankar...  Addhuri Udupi Bhojana   \n",
       "4  10, 3rd Floor, Lakshmi Associates, Gandhi Baza...          Grand Village   \n",
       "\n",
       "  online_order book_table   rate  votes                             phone  \\\n",
       "0          Yes        Yes  4.1/5    775    080 42297555\\r\\n+91 9743772233   \n",
       "1          Yes         No  4.1/5    787                      080 41714161   \n",
       "2          Yes         No  3.8/5    918                    +91 9663487993   \n",
       "3           No         No  3.7/5     88                    +91 9620009302   \n",
       "4           No         No  3.8/5    166  +91 8026612447\\r\\n+91 9901210005   \n",
       "\n",
       "       location            rest_type  \\\n",
       "0  Banashankari        Casual Dining   \n",
       "1  Banashankari        Casual Dining   \n",
       "2  Banashankari  Cafe, Casual Dining   \n",
       "3  Banashankari          Quick Bites   \n",
       "4  Basavanagudi        Casual Dining   \n",
       "\n",
       "                                          dish_liked  \\\n",
       "0  Pasta, Lunch Buffet, Masala Papad, Paneer Laja...   \n",
       "1  Momos, Lunch Buffet, Chocolate Nirvana, Thai G...   \n",
       "2  Churros, Cannelloni, Minestrone Soup, Hot Choc...   \n",
       "3                                        Masala Dosa   \n",
       "4                                Panipuri, Gol Gappe   \n",
       "\n",
       "                         cuisines approx_cost(for two people)  \\\n",
       "0  North Indian, Mughlai, Chinese                         800   \n",
       "1     Chinese, North Indian, Thai                         800   \n",
       "2          Cafe, Mexican, Italian                         800   \n",
       "3      South Indian, North Indian                         300   \n",
       "4        North Indian, Rajasthani                         600   \n",
       "\n",
       "                                        reviews_list menu_item  \\\n",
       "0  [('Rated 4.0', 'RATED\\n  A beautiful place to ...        []   \n",
       "1  [('Rated 4.0', 'RATED\\n  Had been here for din...        []   \n",
       "2  [('Rated 3.0', \"RATED\\n  Ambience is not that ...        []   \n",
       "3  [('Rated 4.0', \"RATED\\n  Great food and proper...        []   \n",
       "4  [('Rated 4.0', 'RATED\\n  Very good restaurant ...        []   \n",
       "\n",
       "  listed_in(type) listed_in(city)  \n",
       "0          Buffet    Banashankari  \n",
       "1          Buffet    Banashankari  \n",
       "2          Buffet    Banashankari  \n",
       "3          Buffet    Banashankari  \n",
       "4          Buffet    Banashankari  "
      ]
     },
     "execution_count": 3,
     "metadata": {},
     "output_type": "execute_result"
    }
   ],
   "source": [
    "df.head()"
   ]
  },
  {
   "cell_type": "code",
   "execution_count": 4,
   "id": "931a800b",
   "metadata": {},
   "outputs": [
    {
     "data": {
      "text/plain": [
       "(51717, 17)"
      ]
     },
     "execution_count": 4,
     "metadata": {},
     "output_type": "execute_result"
    }
   ],
   "source": [
    "df.shape"
   ]
  },
  {
   "cell_type": "code",
   "execution_count": 5,
   "id": "6600c0f3",
   "metadata": {},
   "outputs": [
    {
     "data": {
      "text/plain": [
       "Index(['url', 'address', 'name', 'online_order', 'book_table', 'rate', 'votes',\n",
       "       'phone', 'location', 'rest_type', 'dish_liked', 'cuisines',\n",
       "       'approx_cost(for two people)', 'reviews_list', 'menu_item',\n",
       "       'listed_in(type)', 'listed_in(city)'],\n",
       "      dtype='object')"
      ]
     },
     "execution_count": 5,
     "metadata": {},
     "output_type": "execute_result"
    }
   ],
   "source": [
    "df.columns"
   ]
  },
  {
   "cell_type": "code",
   "execution_count": 6,
   "id": "b75a8568",
   "metadata": {},
   "outputs": [
    {
     "data": {
      "text/html": [
       "<div>\n",
       "<style scoped>\n",
       "    .dataframe tbody tr th:only-of-type {\n",
       "        vertical-align: middle;\n",
       "    }\n",
       "\n",
       "    .dataframe tbody tr th {\n",
       "        vertical-align: top;\n",
       "    }\n",
       "\n",
       "    .dataframe thead th {\n",
       "        text-align: right;\n",
       "    }\n",
       "</style>\n",
       "<table border=\"1\" class=\"dataframe\">\n",
       "  <thead>\n",
       "    <tr style=\"text-align: right;\">\n",
       "      <th></th>\n",
       "      <th>votes</th>\n",
       "    </tr>\n",
       "  </thead>\n",
       "  <tbody>\n",
       "    <tr>\n",
       "      <th>count</th>\n",
       "      <td>51717.000000</td>\n",
       "    </tr>\n",
       "    <tr>\n",
       "      <th>mean</th>\n",
       "      <td>283.697527</td>\n",
       "    </tr>\n",
       "    <tr>\n",
       "      <th>std</th>\n",
       "      <td>803.838853</td>\n",
       "    </tr>\n",
       "    <tr>\n",
       "      <th>min</th>\n",
       "      <td>0.000000</td>\n",
       "    </tr>\n",
       "    <tr>\n",
       "      <th>25%</th>\n",
       "      <td>7.000000</td>\n",
       "    </tr>\n",
       "    <tr>\n",
       "      <th>50%</th>\n",
       "      <td>41.000000</td>\n",
       "    </tr>\n",
       "    <tr>\n",
       "      <th>75%</th>\n",
       "      <td>198.000000</td>\n",
       "    </tr>\n",
       "    <tr>\n",
       "      <th>max</th>\n",
       "      <td>16832.000000</td>\n",
       "    </tr>\n",
       "  </tbody>\n",
       "</table>\n",
       "</div>"
      ],
      "text/plain": [
       "              votes\n",
       "count  51717.000000\n",
       "mean     283.697527\n",
       "std      803.838853\n",
       "min        0.000000\n",
       "25%        7.000000\n",
       "50%       41.000000\n",
       "75%      198.000000\n",
       "max    16832.000000"
      ]
     },
     "execution_count": 6,
     "metadata": {},
     "output_type": "execute_result"
    }
   ],
   "source": [
    "df.describe()"
   ]
  },
  {
   "cell_type": "code",
   "execution_count": 7,
   "id": "d4e4abd4",
   "metadata": {},
   "outputs": [
    {
     "data": {
      "text/html": [
       "<div>\n",
       "<style scoped>\n",
       "    .dataframe tbody tr th:only-of-type {\n",
       "        vertical-align: middle;\n",
       "    }\n",
       "\n",
       "    .dataframe tbody tr th {\n",
       "        vertical-align: top;\n",
       "    }\n",
       "\n",
       "    .dataframe thead th {\n",
       "        text-align: right;\n",
       "    }\n",
       "</style>\n",
       "<table border=\"1\" class=\"dataframe\">\n",
       "  <thead>\n",
       "    <tr style=\"text-align: right;\">\n",
       "      <th></th>\n",
       "      <th>url</th>\n",
       "      <th>address</th>\n",
       "      <th>name</th>\n",
       "      <th>online_order</th>\n",
       "      <th>book_table</th>\n",
       "      <th>rate</th>\n",
       "      <th>phone</th>\n",
       "      <th>location</th>\n",
       "      <th>rest_type</th>\n",
       "      <th>dish_liked</th>\n",
       "      <th>cuisines</th>\n",
       "      <th>approx_cost(for two people)</th>\n",
       "      <th>reviews_list</th>\n",
       "      <th>menu_item</th>\n",
       "      <th>listed_in(type)</th>\n",
       "      <th>listed_in(city)</th>\n",
       "    </tr>\n",
       "  </thead>\n",
       "  <tbody>\n",
       "    <tr>\n",
       "      <th>count</th>\n",
       "      <td>51717</td>\n",
       "      <td>51717</td>\n",
       "      <td>51717</td>\n",
       "      <td>51717</td>\n",
       "      <td>51717</td>\n",
       "      <td>43942</td>\n",
       "      <td>50509</td>\n",
       "      <td>51696</td>\n",
       "      <td>51490</td>\n",
       "      <td>23639</td>\n",
       "      <td>51672</td>\n",
       "      <td>51371</td>\n",
       "      <td>51717</td>\n",
       "      <td>51717</td>\n",
       "      <td>51717</td>\n",
       "      <td>51717</td>\n",
       "    </tr>\n",
       "    <tr>\n",
       "      <th>unique</th>\n",
       "      <td>51717</td>\n",
       "      <td>11495</td>\n",
       "      <td>8792</td>\n",
       "      <td>2</td>\n",
       "      <td>2</td>\n",
       "      <td>64</td>\n",
       "      <td>14926</td>\n",
       "      <td>93</td>\n",
       "      <td>93</td>\n",
       "      <td>5271</td>\n",
       "      <td>2723</td>\n",
       "      <td>70</td>\n",
       "      <td>22513</td>\n",
       "      <td>9098</td>\n",
       "      <td>7</td>\n",
       "      <td>30</td>\n",
       "    </tr>\n",
       "    <tr>\n",
       "      <th>top</th>\n",
       "      <td>https://www.zomato.com/bangalore/jalsa-banasha...</td>\n",
       "      <td>Delivery Only</td>\n",
       "      <td>Cafe Coffee Day</td>\n",
       "      <td>Yes</td>\n",
       "      <td>No</td>\n",
       "      <td>NEW</td>\n",
       "      <td>080 43334321</td>\n",
       "      <td>BTM</td>\n",
       "      <td>Quick Bites</td>\n",
       "      <td>Biryani</td>\n",
       "      <td>North Indian</td>\n",
       "      <td>300</td>\n",
       "      <td>[]</td>\n",
       "      <td>[]</td>\n",
       "      <td>Delivery</td>\n",
       "      <td>BTM</td>\n",
       "    </tr>\n",
       "    <tr>\n",
       "      <th>freq</th>\n",
       "      <td>1</td>\n",
       "      <td>128</td>\n",
       "      <td>96</td>\n",
       "      <td>30444</td>\n",
       "      <td>45268</td>\n",
       "      <td>2208</td>\n",
       "      <td>216</td>\n",
       "      <td>5124</td>\n",
       "      <td>19132</td>\n",
       "      <td>182</td>\n",
       "      <td>2913</td>\n",
       "      <td>7576</td>\n",
       "      <td>7595</td>\n",
       "      <td>39617</td>\n",
       "      <td>25942</td>\n",
       "      <td>3279</td>\n",
       "    </tr>\n",
       "  </tbody>\n",
       "</table>\n",
       "</div>"
      ],
      "text/plain": [
       "                                                      url        address  \\\n",
       "count                                               51717          51717   \n",
       "unique                                              51717          11495   \n",
       "top     https://www.zomato.com/bangalore/jalsa-banasha...  Delivery Only   \n",
       "freq                                                    1            128   \n",
       "\n",
       "                   name online_order book_table   rate         phone location  \\\n",
       "count             51717        51717      51717  43942         50509    51696   \n",
       "unique             8792            2          2     64         14926       93   \n",
       "top     Cafe Coffee Day          Yes         No    NEW  080 43334321      BTM   \n",
       "freq                 96        30444      45268   2208           216     5124   \n",
       "\n",
       "          rest_type dish_liked      cuisines approx_cost(for two people)  \\\n",
       "count         51490      23639         51672                       51371   \n",
       "unique           93       5271          2723                          70   \n",
       "top     Quick Bites    Biryani  North Indian                         300   \n",
       "freq          19132        182          2913                        7576   \n",
       "\n",
       "       reviews_list menu_item listed_in(type) listed_in(city)  \n",
       "count         51717     51717           51717           51717  \n",
       "unique        22513      9098               7              30  \n",
       "top              []        []        Delivery             BTM  \n",
       "freq           7595     39617           25942            3279  "
      ]
     },
     "execution_count": 7,
     "metadata": {},
     "output_type": "execute_result"
    }
   ],
   "source": [
    "df.describe(include = 'object')"
   ]
  },
  {
   "cell_type": "markdown",
   "id": "e1e6cb6c",
   "metadata": {},
   "source": [
    "### Drop Unnecessary Colums"
   ]
  },
  {
   "cell_type": "code",
   "execution_count": 8,
   "id": "fab3ffab",
   "metadata": {},
   "outputs": [],
   "source": [
    "df = df.drop(['url','address','phone'], axis = 1)"
   ]
  },
  {
   "cell_type": "code",
   "execution_count": 9,
   "id": "84224028",
   "metadata": {},
   "outputs": [
    {
     "name": "stdout",
     "output_type": "stream",
     "text": [
      "<class 'pandas.core.frame.DataFrame'>\n",
      "RangeIndex: 51717 entries, 0 to 51716\n",
      "Data columns (total 14 columns):\n",
      " #   Column                       Non-Null Count  Dtype \n",
      "---  ------                       --------------  ----- \n",
      " 0   name                         51717 non-null  object\n",
      " 1   online_order                 51717 non-null  object\n",
      " 2   book_table                   51717 non-null  object\n",
      " 3   rate                         43942 non-null  object\n",
      " 4   votes                        51717 non-null  int64 \n",
      " 5   location                     51696 non-null  object\n",
      " 6   rest_type                    51490 non-null  object\n",
      " 7   dish_liked                   23639 non-null  object\n",
      " 8   cuisines                     51672 non-null  object\n",
      " 9   approx_cost(for two people)  51371 non-null  object\n",
      " 10  reviews_list                 51717 non-null  object\n",
      " 11  menu_item                    51717 non-null  object\n",
      " 12  listed_in(type)              51717 non-null  object\n",
      " 13  listed_in(city)              51717 non-null  object\n",
      "dtypes: int64(1), object(13)\n",
      "memory usage: 5.5+ MB\n"
     ]
    }
   ],
   "source": [
    "df.info()"
   ]
  },
  {
   "cell_type": "markdown",
   "id": "2773d41e",
   "metadata": {},
   "source": [
    "### Rename the Columns"
   ]
  },
  {
   "cell_type": "code",
   "execution_count": 10,
   "id": "8aa0090c",
   "metadata": {},
   "outputs": [
    {
     "data": {
      "text/html": [
       "<div>\n",
       "<style scoped>\n",
       "    .dataframe tbody tr th:only-of-type {\n",
       "        vertical-align: middle;\n",
       "    }\n",
       "\n",
       "    .dataframe tbody tr th {\n",
       "        vertical-align: top;\n",
       "    }\n",
       "\n",
       "    .dataframe thead th {\n",
       "        text-align: right;\n",
       "    }\n",
       "</style>\n",
       "<table border=\"1\" class=\"dataframe\">\n",
       "  <thead>\n",
       "    <tr style=\"text-align: right;\">\n",
       "      <th></th>\n",
       "      <th>name</th>\n",
       "      <th>online_order</th>\n",
       "      <th>book_table</th>\n",
       "      <th>rate</th>\n",
       "      <th>votes</th>\n",
       "      <th>location</th>\n",
       "      <th>rest_type</th>\n",
       "      <th>dish_liked</th>\n",
       "      <th>cuisines</th>\n",
       "      <th>cost</th>\n",
       "      <th>reviews_list</th>\n",
       "      <th>menu_item</th>\n",
       "      <th>Type</th>\n",
       "      <th>listed_in(city)</th>\n",
       "    </tr>\n",
       "  </thead>\n",
       "  <tbody>\n",
       "    <tr>\n",
       "      <th>0</th>\n",
       "      <td>Jalsa</td>\n",
       "      <td>Yes</td>\n",
       "      <td>Yes</td>\n",
       "      <td>4.1/5</td>\n",
       "      <td>775</td>\n",
       "      <td>Banashankari</td>\n",
       "      <td>Casual Dining</td>\n",
       "      <td>Pasta, Lunch Buffet, Masala Papad, Paneer Laja...</td>\n",
       "      <td>North Indian, Mughlai, Chinese</td>\n",
       "      <td>800</td>\n",
       "      <td>[('Rated 4.0', 'RATED\\n  A beautiful place to ...</td>\n",
       "      <td>[]</td>\n",
       "      <td>Buffet</td>\n",
       "      <td>Banashankari</td>\n",
       "    </tr>\n",
       "    <tr>\n",
       "      <th>1</th>\n",
       "      <td>Spice Elephant</td>\n",
       "      <td>Yes</td>\n",
       "      <td>No</td>\n",
       "      <td>4.1/5</td>\n",
       "      <td>787</td>\n",
       "      <td>Banashankari</td>\n",
       "      <td>Casual Dining</td>\n",
       "      <td>Momos, Lunch Buffet, Chocolate Nirvana, Thai G...</td>\n",
       "      <td>Chinese, North Indian, Thai</td>\n",
       "      <td>800</td>\n",
       "      <td>[('Rated 4.0', 'RATED\\n  Had been here for din...</td>\n",
       "      <td>[]</td>\n",
       "      <td>Buffet</td>\n",
       "      <td>Banashankari</td>\n",
       "    </tr>\n",
       "    <tr>\n",
       "      <th>2</th>\n",
       "      <td>San Churro Cafe</td>\n",
       "      <td>Yes</td>\n",
       "      <td>No</td>\n",
       "      <td>3.8/5</td>\n",
       "      <td>918</td>\n",
       "      <td>Banashankari</td>\n",
       "      <td>Cafe, Casual Dining</td>\n",
       "      <td>Churros, Cannelloni, Minestrone Soup, Hot Choc...</td>\n",
       "      <td>Cafe, Mexican, Italian</td>\n",
       "      <td>800</td>\n",
       "      <td>[('Rated 3.0', \"RATED\\n  Ambience is not that ...</td>\n",
       "      <td>[]</td>\n",
       "      <td>Buffet</td>\n",
       "      <td>Banashankari</td>\n",
       "    </tr>\n",
       "    <tr>\n",
       "      <th>3</th>\n",
       "      <td>Addhuri Udupi Bhojana</td>\n",
       "      <td>No</td>\n",
       "      <td>No</td>\n",
       "      <td>3.7/5</td>\n",
       "      <td>88</td>\n",
       "      <td>Banashankari</td>\n",
       "      <td>Quick Bites</td>\n",
       "      <td>Masala Dosa</td>\n",
       "      <td>South Indian, North Indian</td>\n",
       "      <td>300</td>\n",
       "      <td>[('Rated 4.0', \"RATED\\n  Great food and proper...</td>\n",
       "      <td>[]</td>\n",
       "      <td>Buffet</td>\n",
       "      <td>Banashankari</td>\n",
       "    </tr>\n",
       "    <tr>\n",
       "      <th>4</th>\n",
       "      <td>Grand Village</td>\n",
       "      <td>No</td>\n",
       "      <td>No</td>\n",
       "      <td>3.8/5</td>\n",
       "      <td>166</td>\n",
       "      <td>Basavanagudi</td>\n",
       "      <td>Casual Dining</td>\n",
       "      <td>Panipuri, Gol Gappe</td>\n",
       "      <td>North Indian, Rajasthani</td>\n",
       "      <td>600</td>\n",
       "      <td>[('Rated 4.0', 'RATED\\n  Very good restaurant ...</td>\n",
       "      <td>[]</td>\n",
       "      <td>Buffet</td>\n",
       "      <td>Banashankari</td>\n",
       "    </tr>\n",
       "  </tbody>\n",
       "</table>\n",
       "</div>"
      ],
      "text/plain": [
       "                    name online_order book_table   rate  votes      location  \\\n",
       "0                  Jalsa          Yes        Yes  4.1/5    775  Banashankari   \n",
       "1         Spice Elephant          Yes         No  4.1/5    787  Banashankari   \n",
       "2        San Churro Cafe          Yes         No  3.8/5    918  Banashankari   \n",
       "3  Addhuri Udupi Bhojana           No         No  3.7/5     88  Banashankari   \n",
       "4          Grand Village           No         No  3.8/5    166  Basavanagudi   \n",
       "\n",
       "             rest_type                                         dish_liked  \\\n",
       "0        Casual Dining  Pasta, Lunch Buffet, Masala Papad, Paneer Laja...   \n",
       "1        Casual Dining  Momos, Lunch Buffet, Chocolate Nirvana, Thai G...   \n",
       "2  Cafe, Casual Dining  Churros, Cannelloni, Minestrone Soup, Hot Choc...   \n",
       "3          Quick Bites                                        Masala Dosa   \n",
       "4        Casual Dining                                Panipuri, Gol Gappe   \n",
       "\n",
       "                         cuisines cost  \\\n",
       "0  North Indian, Mughlai, Chinese  800   \n",
       "1     Chinese, North Indian, Thai  800   \n",
       "2          Cafe, Mexican, Italian  800   \n",
       "3      South Indian, North Indian  300   \n",
       "4        North Indian, Rajasthani  600   \n",
       "\n",
       "                                        reviews_list menu_item    Type  \\\n",
       "0  [('Rated 4.0', 'RATED\\n  A beautiful place to ...        []  Buffet   \n",
       "1  [('Rated 4.0', 'RATED\\n  Had been here for din...        []  Buffet   \n",
       "2  [('Rated 3.0', \"RATED\\n  Ambience is not that ...        []  Buffet   \n",
       "3  [('Rated 4.0', \"RATED\\n  Great food and proper...        []  Buffet   \n",
       "4  [('Rated 4.0', 'RATED\\n  Very good restaurant ...        []  Buffet   \n",
       "\n",
       "  listed_in(city)  \n",
       "0    Banashankari  \n",
       "1    Banashankari  \n",
       "2    Banashankari  \n",
       "3    Banashankari  \n",
       "4    Banashankari  "
      ]
     },
     "execution_count": 10,
     "metadata": {},
     "output_type": "execute_result"
    }
   ],
   "source": [
    "df.rename(columns = {'approx_cost(for two people)' : 'cost','listed_in(type)': 'Type'}, inplace = 'True')\n",
    "df.head()"
   ]
  },
  {
   "cell_type": "markdown",
   "id": "ccb82e26",
   "metadata": {},
   "source": [
    "### Dropping Duplicate"
   ]
  },
  {
   "cell_type": "code",
   "execution_count": 11,
   "id": "d28510e6",
   "metadata": {},
   "outputs": [
    {
     "data": {
      "text/plain": [
       "63"
      ]
     },
     "execution_count": 11,
     "metadata": {},
     "output_type": "execute_result"
    }
   ],
   "source": [
    "df.duplicated().sum()"
   ]
  },
  {
   "cell_type": "code",
   "execution_count": 12,
   "id": "6e645310",
   "metadata": {},
   "outputs": [
    {
     "data": {
      "text/plain": [
       "(51654, 14)"
      ]
     },
     "execution_count": 12,
     "metadata": {},
     "output_type": "execute_result"
    }
   ],
   "source": [
    "df.drop_duplicates(inplace = True)\n",
    "df.shape"
   ]
  },
  {
   "cell_type": "code",
   "execution_count": 13,
   "id": "0b374579",
   "metadata": {},
   "outputs": [
    {
     "name": "stdout",
     "output_type": "stream",
     "text": [
      "<class 'pandas.core.frame.DataFrame'>\n",
      "Int64Index: 51654 entries, 0 to 51716\n",
      "Data columns (total 14 columns):\n",
      " #   Column           Non-Null Count  Dtype \n",
      "---  ------           --------------  ----- \n",
      " 0   name             51654 non-null  object\n",
      " 1   online_order     51654 non-null  object\n",
      " 2   book_table       51654 non-null  object\n",
      " 3   rate             43894 non-null  object\n",
      " 4   votes            51654 non-null  int64 \n",
      " 5   location         51633 non-null  object\n",
      " 6   rest_type        51427 non-null  object\n",
      " 7   dish_liked       23627 non-null  object\n",
      " 8   cuisines         51609 non-null  object\n",
      " 9   cost             51309 non-null  object\n",
      " 10  reviews_list     51654 non-null  object\n",
      " 11  menu_item        51654 non-null  object\n",
      " 12  Type             51654 non-null  object\n",
      " 13  listed_in(city)  51654 non-null  object\n",
      "dtypes: int64(1), object(13)\n",
      "memory usage: 5.9+ MB\n"
     ]
    }
   ],
   "source": [
    "df.info()"
   ]
  },
  {
   "cell_type": "markdown",
   "id": "a6ba1209",
   "metadata": {},
   "source": [
    "### Insight:\n",
    "\n",
    "* The columns namely rate, location, rest_type, dish_liked, cuisines and cost are having null values present."
   ]
  },
  {
   "cell_type": "markdown",
   "id": "6ead0845",
   "metadata": {},
   "source": [
    "### Check NULL Value in the Column"
   ]
  },
  {
   "cell_type": "code",
   "execution_count": 14,
   "id": "67ffe0a7",
   "metadata": {},
   "outputs": [
    {
     "data": {
      "text/plain": [
       "name                   0\n",
       "online_order           0\n",
       "book_table             0\n",
       "rate                7760\n",
       "votes                  0\n",
       "location              21\n",
       "rest_type            227\n",
       "dish_liked         28027\n",
       "cuisines              45\n",
       "cost                 345\n",
       "reviews_list           0\n",
       "menu_item              0\n",
       "Type                   0\n",
       "listed_in(city)        0\n",
       "dtype: int64"
      ]
     },
     "execution_count": 14,
     "metadata": {},
     "output_type": "execute_result"
    }
   ],
   "source": [
    "df.isnull().sum()"
   ]
  },
  {
   "cell_type": "markdown",
   "id": "4adfa38c",
   "metadata": {},
   "source": [
    "### Cleaning rate Column"
   ]
  },
  {
   "cell_type": "code",
   "execution_count": 15,
   "id": "1d7baf54",
   "metadata": {},
   "outputs": [
    {
     "data": {
      "text/plain": [
       "array(['4.1/5', '3.8/5', '3.7/5', '3.6/5', '4.6/5', '4.0/5', '4.2/5',\n",
       "       '3.9/5', '3.1/5', '3.0/5', '3.2/5', '3.3/5', '2.8/5', '4.4/5',\n",
       "       '4.3/5', 'NEW', '2.9/5', '3.5/5', nan, '2.6/5', '3.8 /5', '3.4/5',\n",
       "       '4.5/5', '2.5/5', '2.7/5', '4.7/5', '2.4/5', '2.2/5', '2.3/5',\n",
       "       '3.4 /5', '-', '3.6 /5', '4.8/5', '3.9 /5', '4.2 /5', '4.0 /5',\n",
       "       '4.1 /5', '3.7 /5', '3.1 /5', '2.9 /5', '3.3 /5', '2.8 /5',\n",
       "       '3.5 /5', '2.7 /5', '2.5 /5', '3.2 /5', '2.6 /5', '4.5 /5',\n",
       "       '4.3 /5', '4.4 /5', '4.9/5', '2.1/5', '2.0/5', '1.8/5', '4.6 /5',\n",
       "       '4.9 /5', '3.0 /5', '4.8 /5', '2.3 /5', '4.7 /5', '2.4 /5',\n",
       "       '2.1 /5', '2.2 /5', '2.0 /5', '1.8 /5'], dtype=object)"
      ]
     },
     "execution_count": 15,
     "metadata": {},
     "output_type": "execute_result"
    }
   ],
   "source": [
    "# Checking the unique values\n",
    "df['rate'].unique()"
   ]
  },
  {
   "cell_type": "code",
   "execution_count": 16,
   "id": "38109359",
   "metadata": {},
   "outputs": [],
   "source": [
    "df = df[df.rate != 'NEW']\n",
    "df = df[df.rate != '-']"
   ]
  },
  {
   "cell_type": "code",
   "execution_count": 17,
   "id": "2f91fd15",
   "metadata": {},
   "outputs": [],
   "source": [
    "df.rate = df.rate.astype('str')\n",
    "df.rate = df.rate.apply(lambda x: x.replace('/5',''))\n",
    "df.rate = df.rate.astype('float')\n",
    "df.rate = df.rate.fillna(value = df.rate.mean())"
   ]
  },
  {
   "cell_type": "code",
   "execution_count": 18,
   "id": "42ce7c6e",
   "metadata": {},
   "outputs": [
    {
     "data": {
      "text/plain": [
       "array([4.1       , 3.8       , 3.7       , 3.6       , 4.6       ,\n",
       "       4.        , 4.2       , 3.9       , 3.1       , 3.        ,\n",
       "       3.2       , 3.3       , 2.8       , 4.4       , 4.3       ,\n",
       "       2.9       , 3.5       , 3.70051169, 2.6       , 3.4       ,\n",
       "       4.5       , 2.5       , 2.7       , 4.7       , 2.4       ,\n",
       "       2.2       , 2.3       , 4.8       , 4.9       , 2.1       ,\n",
       "       2.        , 1.8       ])"
      ]
     },
     "execution_count": 18,
     "metadata": {},
     "output_type": "execute_result"
    }
   ],
   "source": [
    "df.rate.unique()"
   ]
  },
  {
   "cell_type": "code",
   "execution_count": 19,
   "id": "ea377d67",
   "metadata": {},
   "outputs": [
    {
     "data": {
      "text/plain": [
       "(49387, 14)"
      ]
     },
     "execution_count": 19,
     "metadata": {},
     "output_type": "execute_result"
    }
   ],
   "source": [
    "df.shape"
   ]
  },
  {
   "cell_type": "code",
   "execution_count": 20,
   "id": "94b85580",
   "metadata": {},
   "outputs": [
    {
     "name": "stdout",
     "output_type": "stream",
     "text": [
      "<class 'pandas.core.frame.DataFrame'>\n",
      "Int64Index: 49387 entries, 0 to 51716\n",
      "Data columns (total 14 columns):\n",
      " #   Column           Non-Null Count  Dtype  \n",
      "---  ------           --------------  -----  \n",
      " 0   name             49387 non-null  object \n",
      " 1   online_order     49387 non-null  object \n",
      " 2   book_table       49387 non-null  object \n",
      " 3   rate             49387 non-null  float64\n",
      " 4   votes            49387 non-null  int64  \n",
      " 5   location         49366 non-null  object \n",
      " 6   rest_type        49162 non-null  object \n",
      " 7   dish_liked       23480 non-null  object \n",
      " 8   cuisines         49342 non-null  object \n",
      " 9   cost             49047 non-null  object \n",
      " 10  reviews_list     49387 non-null  object \n",
      " 11  menu_item        49387 non-null  object \n",
      " 12  Type             49387 non-null  object \n",
      " 13  listed_in(city)  49387 non-null  object \n",
      "dtypes: float64(1), int64(1), object(12)\n",
      "memory usage: 5.7+ MB\n"
     ]
    }
   ],
   "source": [
    "df.info()"
   ]
  },
  {
   "cell_type": "markdown",
   "id": "c71c090b",
   "metadata": {},
   "source": [
    "### Cleaning the cost column (Remove ',' in cost column)"
   ]
  },
  {
   "cell_type": "code",
   "execution_count": 21,
   "id": "24bf8f34",
   "metadata": {},
   "outputs": [
    {
     "data": {
      "text/plain": [
       "array(['800', '300', '600', '700', '550', '500', '450', '650', '400',\n",
       "       '900', '200', '750', '150', '850', '100', '1,200', '350', '250',\n",
       "       '950', '1,000', '1,500', '1,300', '199', '1,100', '1,600', '230',\n",
       "       '130', '80', '50', '190', '1,700', nan, '180', '1,350', '2,200',\n",
       "       '1,400', '2,000', '1,800', '1,900', '330', '2,500', '2,100',\n",
       "       '3,000', '2,800', '3,400', '40', '1,250', '3,500', '4,000',\n",
       "       '2,400', '2,600', '120', '1,450', '469', '70', '3,200', '60',\n",
       "       '240', '6,000', '1,050', '2,300', '4,100', '5,000', '3,700',\n",
       "       '1,650', '2,700', '4,500', '140', '360'], dtype=object)"
      ]
     },
     "execution_count": 21,
     "metadata": {},
     "output_type": "execute_result"
    }
   ],
   "source": [
    "# Checking the unique value in cost column\n",
    "df.cost.unique()"
   ]
  },
  {
   "cell_type": "code",
   "execution_count": 22,
   "id": "02c76b9e",
   "metadata": {},
   "outputs": [],
   "source": [
    "# Changing the cost to string\n",
    "df.cost = df.cost.astype('str')\n",
    "\n",
    "# using lambda function to replace ',' from cost\n",
    "df.cost = df.cost.apply( lambda x: x.replace(',',''))\n",
    "\n",
    "# Changing the cost to float\n",
    "df.cost = df.cost.astype('float')"
   ]
  },
  {
   "cell_type": "code",
   "execution_count": 23,
   "id": "c7bfecc1",
   "metadata": {},
   "outputs": [
    {
     "data": {
      "text/plain": [
       "0         800.0\n",
       "1         800.0\n",
       "2         800.0\n",
       "3         300.0\n",
       "4         600.0\n",
       "          ...  \n",
       "51712    1500.0\n",
       "51713     600.0\n",
       "51714    2000.0\n",
       "51715    2500.0\n",
       "51716    1500.0\n",
       "Name: cost, Length: 49387, dtype: float64"
      ]
     },
     "execution_count": 23,
     "metadata": {},
     "output_type": "execute_result"
    }
   ],
   "source": [
    "df.cost = df.cost.fillna(value = df.cost.mean())\n",
    "df.cost"
   ]
  },
  {
   "cell_type": "code",
   "execution_count": 24,
   "id": "b05727ac",
   "metadata": {},
   "outputs": [
    {
     "name": "stdout",
     "output_type": "stream",
     "text": [
      "<class 'pandas.core.frame.DataFrame'>\n",
      "Int64Index: 49387 entries, 0 to 51716\n",
      "Data columns (total 14 columns):\n",
      " #   Column           Non-Null Count  Dtype  \n",
      "---  ------           --------------  -----  \n",
      " 0   name             49387 non-null  object \n",
      " 1   online_order     49387 non-null  object \n",
      " 2   book_table       49387 non-null  object \n",
      " 3   rate             49387 non-null  float64\n",
      " 4   votes            49387 non-null  int64  \n",
      " 5   location         49366 non-null  object \n",
      " 6   rest_type        49162 non-null  object \n",
      " 7   dish_liked       23480 non-null  object \n",
      " 8   cuisines         49342 non-null  object \n",
      " 9   cost             49387 non-null  float64\n",
      " 10  reviews_list     49387 non-null  object \n",
      " 11  menu_item        49387 non-null  object \n",
      " 12  Type             49387 non-null  object \n",
      " 13  listed_in(city)  49387 non-null  object \n",
      "dtypes: float64(2), int64(1), object(11)\n",
      "memory usage: 5.7+ MB\n"
     ]
    }
   ],
   "source": [
    "df.info()"
   ]
  },
  {
   "cell_type": "markdown",
   "id": "eaa96b3f",
   "metadata": {},
   "source": [
    "### Cleaning the dish_liked column"
   ]
  },
  {
   "cell_type": "code",
   "execution_count": 25,
   "id": "558f938a",
   "metadata": {},
   "outputs": [
    {
     "data": {
      "text/plain": [
       "25907"
      ]
     },
     "execution_count": 25,
     "metadata": {},
     "output_type": "execute_result"
    }
   ],
   "source": [
    "# Checking the null value\n",
    "df.dish_liked.isnull().sum()"
   ]
  },
  {
   "cell_type": "code",
   "execution_count": 26,
   "id": "822a97cc",
   "metadata": {},
   "outputs": [],
   "source": [
    "# Replacing the null values with 'No Special Dish'\n",
    "df['dish_liked'] = df['dish_liked'].apply(lambda x: str(x).replace('nan','No Special Dish'))"
   ]
  },
  {
   "cell_type": "code",
   "execution_count": 27,
   "id": "c57c12d8",
   "metadata": {},
   "outputs": [
    {
     "name": "stdout",
     "output_type": "stream",
     "text": [
      "<class 'pandas.core.frame.DataFrame'>\n",
      "Int64Index: 49387 entries, 0 to 51716\n",
      "Data columns (total 14 columns):\n",
      " #   Column           Non-Null Count  Dtype  \n",
      "---  ------           --------------  -----  \n",
      " 0   name             49387 non-null  object \n",
      " 1   online_order     49387 non-null  object \n",
      " 2   book_table       49387 non-null  object \n",
      " 3   rate             49387 non-null  float64\n",
      " 4   votes            49387 non-null  int64  \n",
      " 5   location         49366 non-null  object \n",
      " 6   rest_type        49162 non-null  object \n",
      " 7   dish_liked       49387 non-null  object \n",
      " 8   cuisines         49342 non-null  object \n",
      " 9   cost             49387 non-null  float64\n",
      " 10  reviews_list     49387 non-null  object \n",
      " 11  menu_item        49387 non-null  object \n",
      " 12  Type             49387 non-null  object \n",
      " 13  listed_in(city)  49387 non-null  object \n",
      "dtypes: float64(2), int64(1), object(11)\n",
      "memory usage: 5.7+ MB\n"
     ]
    }
   ],
   "source": [
    "df.info()"
   ]
  },
  {
   "cell_type": "markdown",
   "id": "b0964903",
   "metadata": {},
   "source": [
    "### Cleaning the location column"
   ]
  },
  {
   "cell_type": "code",
   "execution_count": 28,
   "id": "32e65f9d",
   "metadata": {},
   "outputs": [
    {
     "data": {
      "text/plain": [
       "'BTM'"
      ]
     },
     "execution_count": 28,
     "metadata": {},
     "output_type": "execute_result"
    }
   ],
   "source": [
    "# finding the mode value\n",
    "df.location.mode()[0]"
   ]
  },
  {
   "cell_type": "code",
   "execution_count": 29,
   "id": "d51613a2",
   "metadata": {},
   "outputs": [],
   "source": [
    "# Fill the mode value in location column\n",
    "df.location = df.location.fillna(df.location.mode()[0])"
   ]
  },
  {
   "cell_type": "code",
   "execution_count": 30,
   "id": "8ae5d34d",
   "metadata": {},
   "outputs": [
    {
     "data": {
      "text/plain": [
       "(49387, 14)"
      ]
     },
     "execution_count": 30,
     "metadata": {},
     "output_type": "execute_result"
    }
   ],
   "source": [
    "df.shape"
   ]
  },
  {
   "cell_type": "code",
   "execution_count": 31,
   "id": "ce87df56",
   "metadata": {},
   "outputs": [
    {
     "name": "stdout",
     "output_type": "stream",
     "text": [
      "<class 'pandas.core.frame.DataFrame'>\n",
      "Int64Index: 49387 entries, 0 to 51716\n",
      "Data columns (total 14 columns):\n",
      " #   Column           Non-Null Count  Dtype  \n",
      "---  ------           --------------  -----  \n",
      " 0   name             49387 non-null  object \n",
      " 1   online_order     49387 non-null  object \n",
      " 2   book_table       49387 non-null  object \n",
      " 3   rate             49387 non-null  float64\n",
      " 4   votes            49387 non-null  int64  \n",
      " 5   location         49387 non-null  object \n",
      " 6   rest_type        49162 non-null  object \n",
      " 7   dish_liked       49387 non-null  object \n",
      " 8   cuisines         49342 non-null  object \n",
      " 9   cost             49387 non-null  float64\n",
      " 10  reviews_list     49387 non-null  object \n",
      " 11  menu_item        49387 non-null  object \n",
      " 12  Type             49387 non-null  object \n",
      " 13  listed_in(city)  49387 non-null  object \n",
      "dtypes: float64(2), int64(1), object(11)\n",
      "memory usage: 5.7+ MB\n"
     ]
    }
   ],
   "source": [
    "df.info()"
   ]
  },
  {
   "cell_type": "markdown",
   "id": "f59f7025",
   "metadata": {},
   "source": [
    "### Cleaning the rest_type column"
   ]
  },
  {
   "cell_type": "code",
   "execution_count": 32,
   "id": "dba125c1",
   "metadata": {},
   "outputs": [
    {
     "data": {
      "text/plain": [
       "'Quick Bites'"
      ]
     },
     "execution_count": 32,
     "metadata": {},
     "output_type": "execute_result"
    }
   ],
   "source": [
    "# finding the mode value in rest_types columns\n",
    "df.rest_type.mode()[0]"
   ]
  },
  {
   "cell_type": "code",
   "execution_count": 33,
   "id": "ca55a6e6",
   "metadata": {},
   "outputs": [],
   "source": [
    "# Fill the mode value in location column\n",
    "df.rest_type = df.rest_type.fillna(df.rest_type.mode()[0])"
   ]
  },
  {
   "cell_type": "code",
   "execution_count": 34,
   "id": "a73eac1f",
   "metadata": {},
   "outputs": [
    {
     "data": {
      "text/plain": [
       "0"
      ]
     },
     "execution_count": 34,
     "metadata": {},
     "output_type": "execute_result"
    }
   ],
   "source": [
    "# Checking the null values in rest_type column\n",
    "df.rest_type.isnull().sum()"
   ]
  },
  {
   "cell_type": "markdown",
   "id": "658cc09b",
   "metadata": {},
   "source": [
    "### Cleaning the cuisines column"
   ]
  },
  {
   "cell_type": "code",
   "execution_count": 35,
   "id": "45ccb049",
   "metadata": {},
   "outputs": [
    {
     "data": {
      "text/plain": [
       "45"
      ]
     },
     "execution_count": 35,
     "metadata": {},
     "output_type": "execute_result"
    }
   ],
   "source": [
    "# Checking the null values in rest_type column\n",
    "df.cuisines.isnull().sum()"
   ]
  },
  {
   "cell_type": "code",
   "execution_count": 36,
   "id": "c7045260",
   "metadata": {},
   "outputs": [
    {
     "data": {
      "text/plain": [
       "'North Indian'"
      ]
     },
     "execution_count": 36,
     "metadata": {},
     "output_type": "execute_result"
    }
   ],
   "source": [
    "# finding the mode value in rest_types columns\n",
    "df.cuisines.mode()[0]"
   ]
  },
  {
   "cell_type": "code",
   "execution_count": 37,
   "id": "62f88846",
   "metadata": {},
   "outputs": [],
   "source": [
    "# Fill the null valve in location column using mode \n",
    "df.cuisines = df.cuisines.fillna(df.cuisines.mode()[0])"
   ]
  },
  {
   "cell_type": "code",
   "execution_count": 38,
   "id": "cab4ce47",
   "metadata": {},
   "outputs": [
    {
     "data": {
      "text/plain": [
       "0"
      ]
     },
     "execution_count": 38,
     "metadata": {},
     "output_type": "execute_result"
    }
   ],
   "source": [
    "# Checking the null values in rest_type column\n",
    "df.cuisines.isnull().sum()"
   ]
  },
  {
   "cell_type": "code",
   "execution_count": 39,
   "id": "9260cf8e",
   "metadata": {},
   "outputs": [
    {
     "name": "stdout",
     "output_type": "stream",
     "text": [
      "<class 'pandas.core.frame.DataFrame'>\n",
      "Int64Index: 49387 entries, 0 to 51716\n",
      "Data columns (total 14 columns):\n",
      " #   Column           Non-Null Count  Dtype  \n",
      "---  ------           --------------  -----  \n",
      " 0   name             49387 non-null  object \n",
      " 1   online_order     49387 non-null  object \n",
      " 2   book_table       49387 non-null  object \n",
      " 3   rate             49387 non-null  float64\n",
      " 4   votes            49387 non-null  int64  \n",
      " 5   location         49387 non-null  object \n",
      " 6   rest_type        49387 non-null  object \n",
      " 7   dish_liked       49387 non-null  object \n",
      " 8   cuisines         49387 non-null  object \n",
      " 9   cost             49387 non-null  float64\n",
      " 10  reviews_list     49387 non-null  object \n",
      " 11  menu_item        49387 non-null  object \n",
      " 12  Type             49387 non-null  object \n",
      " 13  listed_in(city)  49387 non-null  object \n",
      "dtypes: float64(2), int64(1), object(11)\n",
      "memory usage: 5.7+ MB\n"
     ]
    }
   ],
   "source": [
    "df.info()"
   ]
  },
  {
   "cell_type": "code",
   "execution_count": 40,
   "id": "0607e8ed",
   "metadata": {},
   "outputs": [
    {
     "data": {
      "text/html": [
       "<div>\n",
       "<style scoped>\n",
       "    .dataframe tbody tr th:only-of-type {\n",
       "        vertical-align: middle;\n",
       "    }\n",
       "\n",
       "    .dataframe tbody tr th {\n",
       "        vertical-align: top;\n",
       "    }\n",
       "\n",
       "    .dataframe thead th {\n",
       "        text-align: right;\n",
       "    }\n",
       "</style>\n",
       "<table border=\"1\" class=\"dataframe\">\n",
       "  <thead>\n",
       "    <tr style=\"text-align: right;\">\n",
       "      <th></th>\n",
       "      <th>name</th>\n",
       "      <th>online_order</th>\n",
       "      <th>book_table</th>\n",
       "      <th>rate</th>\n",
       "      <th>votes</th>\n",
       "      <th>location</th>\n",
       "      <th>rest_type</th>\n",
       "      <th>dish_liked</th>\n",
       "      <th>cuisines</th>\n",
       "      <th>cost</th>\n",
       "      <th>reviews_list</th>\n",
       "      <th>menu_item</th>\n",
       "      <th>Type</th>\n",
       "      <th>listed_in(city)</th>\n",
       "    </tr>\n",
       "  </thead>\n",
       "  <tbody>\n",
       "    <tr>\n",
       "      <th>0</th>\n",
       "      <td>Jalsa</td>\n",
       "      <td>Yes</td>\n",
       "      <td>Yes</td>\n",
       "      <td>4.1</td>\n",
       "      <td>775</td>\n",
       "      <td>Banashankari</td>\n",
       "      <td>Casual Dining</td>\n",
       "      <td>Pasta, Lunch Buffet, Masala Papad, Paneer Laja...</td>\n",
       "      <td>North Indian, Mughlai, Chinese</td>\n",
       "      <td>800.0</td>\n",
       "      <td>[('Rated 4.0', 'RATED\\n  A beautiful place to ...</td>\n",
       "      <td>[]</td>\n",
       "      <td>Buffet</td>\n",
       "      <td>Banashankari</td>\n",
       "    </tr>\n",
       "    <tr>\n",
       "      <th>1</th>\n",
       "      <td>Spice Elephant</td>\n",
       "      <td>Yes</td>\n",
       "      <td>No</td>\n",
       "      <td>4.1</td>\n",
       "      <td>787</td>\n",
       "      <td>Banashankari</td>\n",
       "      <td>Casual Dining</td>\n",
       "      <td>Momos, Lunch Buffet, Chocolate Nirvana, Thai G...</td>\n",
       "      <td>Chinese, North Indian, Thai</td>\n",
       "      <td>800.0</td>\n",
       "      <td>[('Rated 4.0', 'RATED\\n  Had been here for din...</td>\n",
       "      <td>[]</td>\n",
       "      <td>Buffet</td>\n",
       "      <td>Banashankari</td>\n",
       "    </tr>\n",
       "    <tr>\n",
       "      <th>2</th>\n",
       "      <td>San Churro Cafe</td>\n",
       "      <td>Yes</td>\n",
       "      <td>No</td>\n",
       "      <td>3.8</td>\n",
       "      <td>918</td>\n",
       "      <td>Banashankari</td>\n",
       "      <td>Cafe, Casual Dining</td>\n",
       "      <td>Churros, Cannelloni, Minestrone Soup, Hot Choc...</td>\n",
       "      <td>Cafe, Mexican, Italian</td>\n",
       "      <td>800.0</td>\n",
       "      <td>[('Rated 3.0', \"RATED\\n  Ambience is not that ...</td>\n",
       "      <td>[]</td>\n",
       "      <td>Buffet</td>\n",
       "      <td>Banashankari</td>\n",
       "    </tr>\n",
       "  </tbody>\n",
       "</table>\n",
       "</div>"
      ],
      "text/plain": [
       "              name online_order book_table  rate  votes      location  \\\n",
       "0            Jalsa          Yes        Yes   4.1    775  Banashankari   \n",
       "1   Spice Elephant          Yes         No   4.1    787  Banashankari   \n",
       "2  San Churro Cafe          Yes         No   3.8    918  Banashankari   \n",
       "\n",
       "             rest_type                                         dish_liked  \\\n",
       "0        Casual Dining  Pasta, Lunch Buffet, Masala Papad, Paneer Laja...   \n",
       "1        Casual Dining  Momos, Lunch Buffet, Chocolate Nirvana, Thai G...   \n",
       "2  Cafe, Casual Dining  Churros, Cannelloni, Minestrone Soup, Hot Choc...   \n",
       "\n",
       "                         cuisines   cost  \\\n",
       "0  North Indian, Mughlai, Chinese  800.0   \n",
       "1     Chinese, North Indian, Thai  800.0   \n",
       "2          Cafe, Mexican, Italian  800.0   \n",
       "\n",
       "                                        reviews_list menu_item    Type  \\\n",
       "0  [('Rated 4.0', 'RATED\\n  A beautiful place to ...        []  Buffet   \n",
       "1  [('Rated 4.0', 'RATED\\n  Had been here for din...        []  Buffet   \n",
       "2  [('Rated 3.0', \"RATED\\n  Ambience is not that ...        []  Buffet   \n",
       "\n",
       "  listed_in(city)  \n",
       "0    Banashankari  \n",
       "1    Banashankari  \n",
       "2    Banashankari  "
      ]
     },
     "execution_count": 40,
     "metadata": {},
     "output_type": "execute_result"
    }
   ],
   "source": [
    "df.head(3)"
   ]
  },
  {
   "cell_type": "markdown",
   "id": "297224dd",
   "metadata": {},
   "source": [
    "### Data is now clean and Lets jump to visualization"
   ]
  },
  {
   "cell_type": "markdown",
   "id": "8ddab6f3",
   "metadata": {},
   "source": [
    "### Finding the number of resturants in different locations of Bangalore using count plot"
   ]
  },
  {
   "cell_type": "code",
   "execution_count": 41,
   "id": "f50dfea3",
   "metadata": {},
   "outputs": [
    {
     "data": {
      "text/plain": [
       "BTM                      4802\n",
       "Koramangala 5th Block    2441\n",
       "HSR                      2414\n",
       "JP Nagar                 2103\n",
       "Whitefield               2032\n",
       "Indiranagar              1993\n",
       "Jayanagar                1851\n",
       "Marathahalli             1786\n",
       "Bannerghatta Road        1539\n",
       "Bellandur                1217\n",
       "Brigade Road             1184\n",
       "Koramangala 7th Block    1152\n",
       "Electronic City          1132\n",
       "Koramangala 1st Block    1124\n",
       "Koramangala 6th Block    1120\n",
       "Sarjapur Road            1012\n",
       "Koramangala 4th Block     994\n",
       "Ulsoor                    968\n",
       "MG Road                   893\n",
       "Banashankari              845\n",
       "Name: location, dtype: int64"
      ]
     },
     "execution_count": 41,
     "metadata": {},
     "output_type": "execute_result"
    }
   ],
   "source": [
    "df['location'].value_counts()[0:20]"
   ]
  },
  {
   "cell_type": "code",
   "execution_count": 42,
   "id": "e396a175",
   "metadata": {},
   "outputs": [
    {
     "data": {
      "text/plain": [
       "Text(0.5, 0, 'No of Restaurents')"
      ]
     },
     "execution_count": 42,
     "metadata": {},
     "output_type": "execute_result"
    },
    {
     "data": {
      "image/png": "[encoded data removed]",
      "text/plain": [
       "<Figure size 1152x720 with 1 Axes>"
      ]
     },
     "metadata": {
      "needs_background": "light"
     },
     "output_type": "display_data"
    }
   ],
   "source": [
    "plt.figure(figsize = (16,10))\n",
    "sns.barplot(y=df['location'].value_counts()[0:20].index,x=df['location'].value_counts()[0:20])\n",
    "plt.xlabel('No of Restaurents')"
   ]
  },
  {
   "cell_type": "markdown",
   "id": "b6377f1f",
   "metadata": {},
   "source": [
    "### Insight:\n",
    "\n",
    "* The most no of restaurents are presnets in BTM location and followed by koramangala 5th Block, HSR, JP Nagar and so on."
   ]
  },
  {
   "cell_type": "markdown",
   "id": "06ef9102",
   "metadata": {},
   "source": [
    "### Visualizing online order facility"
   ]
  },
  {
   "cell_type": "code",
   "execution_count": 43,
   "id": "41938839",
   "metadata": {},
   "outputs": [
    {
     "data": {
      "image/png": "[encoded data removed]",
      "text/plain": [
       "<Figure size 432x432 with 1 Axes>"
      ]
     },
     "metadata": {},
     "output_type": "display_data"
    }
   ],
   "source": [
    "plt.figure(figsize = (6,6))\n",
    "plt.pie(df['online_order'].value_counts(),labels =df['online_order'].unique(), autopct='%f')\n",
    "plt.show()"
   ]
  },
  {
   "cell_type": "markdown",
   "id": "26632595",
   "metadata": {},
   "source": [
    "### Insight:\n",
    "\n",
    "* Above 59% of restaurents are provided online order facility and above 40% of restaurents are not provided online order facility."
   ]
  },
  {
   "cell_type": "markdown",
   "id": "f8e5c52d",
   "metadata": {},
   "source": [
    "### Check Book Table Facility"
   ]
  },
  {
   "cell_type": "code",
   "execution_count": 44,
   "id": "3d6a0928",
   "metadata": {},
   "outputs": [
    {
     "data": {
      "image/png": "[encoded data removed]",
      "text/plain": [
       "<Figure size 432x288 with 1 Axes>"
      ]
     },
     "metadata": {},
     "output_type": "display_data"
    }
   ],
   "source": [
    "plt.pie(df['book_table'].value_counts(), labels =df['book_table'].unique(), autopct='%.0f%%' )\n",
    "plt.show()"
   ]
  },
  {
   "cell_type": "markdown",
   "id": "23f22fd2",
   "metadata": {},
   "source": [
    "### Insight:\n",
    "\n",
    "* 87% of restaurents are provided book table facility and above 40% of restaurents are not provided book table facility."
   ]
  },
  {
   "cell_type": "markdown",
   "id": "dd806388",
   "metadata": {},
   "source": [
    "### Resturants are having both online and table booking"
   ]
  },
  {
   "cell_type": "code",
   "execution_count": 45,
   "id": "73fd78f0",
   "metadata": {},
   "outputs": [
    {
     "name": "stdout",
     "output_type": "stream",
     "text": [
      "Number of resturant having both online and table booking is 3756\n"
     ]
    },
    {
     "data": {
      "image/png": "[encoded data removed]",
      "text/plain": [
       "<Figure size 432x288 with 1 Axes>"
      ]
     },
     "metadata": {},
     "output_type": "display_data"
    }
   ],
   "source": [
    "online_y_table = df.query('online_order==\"Yes\" & book_table == \"Yes\"')\n",
    "print('Number of resturant having both online and table booking is',online_y_table.shape[0])\n",
    "\n",
    "plt.pie([online_y_table.shape[0], df.shape[0] - online_y_table.shape[0]], labels=['Yes','No'], autopct='%.f%%')\n",
    "plt.show()"
   ]
  },
  {
   "cell_type": "markdown",
   "id": "c39c540a",
   "metadata": {},
   "source": [
    "### Insights:\n",
    "\n",
    "* only 13% of restaurents are provided both online order and book table facility and 92% of restaurents are not provided both online order and book table facility."
   ]
  },
  {
   "cell_type": "markdown",
   "id": "1a3c87b7",
   "metadata": {},
   "source": [
    "### Types of resturants available and their numbers"
   ]
  },
  {
   "cell_type": "code",
   "execution_count": 46,
   "id": "3952facc",
   "metadata": {},
   "outputs": [
    {
     "data": {
      "text/plain": [
       "<BarContainer object of 10 artists>"
      ]
     },
     "execution_count": 46,
     "metadata": {},
     "output_type": "execute_result"
    },
    {
     "data": {
      "image/png": "[encoded data removed]",
      "text/plain": [
       "<Figure size 1440x360 with 1 Axes>"
      ]
     },
     "metadata": {
      "needs_background": "light"
     },
     "output_type": "display_data"
    }
   ],
   "source": [
    "plt.figure(figsize=(20,5))\n",
    "rest_catag = df[['rest_type','name']].groupby('rest_type').count()\n",
    "rest_catag = rest_catag.reset_index()\n",
    "rest_catag = rest_catag.sort_values(by ='name',ascending=False)\n",
    "plt.bar(x=rest_catag['rest_type'][0:10], height=rest_catag['name'][0:10])"
   ]
  },
  {
   "cell_type": "markdown",
   "id": "810acf87",
   "metadata": {},
   "source": [
    "### Insight:\n",
    "\n",
    "* Quick Bites types of restaurents are most present and followed by Casual Dining, cafe, Delivery as so on."
   ]
  },
  {
   "cell_type": "markdown",
   "id": "0e1782cd",
   "metadata": {},
   "source": [
    "### Top 20 costliest resturants"
   ]
  },
  {
   "cell_type": "code",
   "execution_count": 47,
   "id": "adb32111",
   "metadata": {},
   "outputs": [
    {
     "data": {
      "text/html": [
       "<div>\n",
       "<style scoped>\n",
       "    .dataframe tbody tr th:only-of-type {\n",
       "        vertical-align: middle;\n",
       "    }\n",
       "\n",
       "    .dataframe tbody tr th {\n",
       "        vertical-align: top;\n",
       "    }\n",
       "\n",
       "    .dataframe thead th {\n",
       "        text-align: right;\n",
       "    }\n",
       "</style>\n",
       "<table border=\"1\" class=\"dataframe\">\n",
       "  <thead>\n",
       "    <tr style=\"text-align: right;\">\n",
       "      <th></th>\n",
       "      <th>location</th>\n",
       "      <th>name</th>\n",
       "    </tr>\n",
       "  </thead>\n",
       "  <tbody>\n",
       "    <tr>\n",
       "      <th>19139</th>\n",
       "      <td>Old Airport Road</td>\n",
       "      <td>Le Cirque Signature - The Leela Palace</td>\n",
       "    </tr>\n",
       "    <tr>\n",
       "      <th>45618</th>\n",
       "      <td>Old Airport Road</td>\n",
       "      <td>Le Cirque Signature - The Leela Palace</td>\n",
       "    </tr>\n",
       "    <tr>\n",
       "      <th>40266</th>\n",
       "      <td>Sankey Road</td>\n",
       "      <td>Royal Afghan - ITC Windsor</td>\n",
       "    </tr>\n",
       "    <tr>\n",
       "      <th>41591</th>\n",
       "      <td>Marathahalli</td>\n",
       "      <td>Malties - Radisson Blu</td>\n",
       "    </tr>\n",
       "    <tr>\n",
       "      <th>42141</th>\n",
       "      <td>Marathahalli</td>\n",
       "      <td>Malties - Radisson Blu</td>\n",
       "    </tr>\n",
       "    <tr>\n",
       "      <th>39125</th>\n",
       "      <td>Sankey Road</td>\n",
       "      <td>La Brasserie - Le Meridien</td>\n",
       "    </tr>\n",
       "    <tr>\n",
       "      <th>40262</th>\n",
       "      <td>Sankey Road</td>\n",
       "      <td>La Brasserie - Le Meridien</td>\n",
       "    </tr>\n",
       "    <tr>\n",
       "      <th>39416</th>\n",
       "      <td>Sankey Road</td>\n",
       "      <td>La Brasserie - Le Meridien</td>\n",
       "    </tr>\n",
       "    <tr>\n",
       "      <th>37715</th>\n",
       "      <td>Sankey Road</td>\n",
       "      <td>La Brasserie - Le Meridien</td>\n",
       "    </tr>\n",
       "    <tr>\n",
       "      <th>45611</th>\n",
       "      <td>Old Airport Road</td>\n",
       "      <td>Jamavar - The Leela Palace</td>\n",
       "    </tr>\n",
       "    <tr>\n",
       "      <th>43348</th>\n",
       "      <td>Residency Road</td>\n",
       "      <td>Riwaz - The Ritz-Carlton</td>\n",
       "    </tr>\n",
       "    <tr>\n",
       "      <th>13071</th>\n",
       "      <td>Race Course Road</td>\n",
       "      <td>Masala Klub - The Taj West End</td>\n",
       "    </tr>\n",
       "    <tr>\n",
       "      <th>12663</th>\n",
       "      <td>Richmond Road</td>\n",
       "      <td>Edo Restaurant &amp; Bar - ITC Gardenia</td>\n",
       "    </tr>\n",
       "    <tr>\n",
       "      <th>12838</th>\n",
       "      <td>Residency Road</td>\n",
       "      <td>Grill 99 - The Ritz-Carlton</td>\n",
       "    </tr>\n",
       "    <tr>\n",
       "      <th>43344</th>\n",
       "      <td>Richmond Road</td>\n",
       "      <td>Edo Restaurant &amp; Bar - ITC Gardenia</td>\n",
       "    </tr>\n",
       "    <tr>\n",
       "      <th>12677</th>\n",
       "      <td>Residency Road</td>\n",
       "      <td>Riwaz - The Ritz-Carlton</td>\n",
       "    </tr>\n",
       "    <tr>\n",
       "      <th>43936</th>\n",
       "      <td>Residency Road</td>\n",
       "      <td>Riwaz - The Ritz-Carlton</td>\n",
       "    </tr>\n",
       "    <tr>\n",
       "      <th>38705</th>\n",
       "      <td>Richmond Road</td>\n",
       "      <td>Edo Restaurant &amp; Bar - ITC Gardenia</td>\n",
       "    </tr>\n",
       "    <tr>\n",
       "      <th>6702</th>\n",
       "      <td>Residency Road</td>\n",
       "      <td>Riwaz - The Ritz-Carlton</td>\n",
       "    </tr>\n",
       "    <tr>\n",
       "      <th>48115</th>\n",
       "      <td>Residency Road</td>\n",
       "      <td>Riwaz - The Ritz-Carlton</td>\n",
       "    </tr>\n",
       "  </tbody>\n",
       "</table>\n",
       "</div>"
      ],
      "text/plain": [
       "               location                                    name\n",
       "19139  Old Airport Road  Le Cirque Signature - The Leela Palace\n",
       "45618  Old Airport Road  Le Cirque Signature - The Leela Palace\n",
       "40266       Sankey Road              Royal Afghan - ITC Windsor\n",
       "41591      Marathahalli                  Malties - Radisson Blu\n",
       "42141      Marathahalli                  Malties - Radisson Blu\n",
       "39125       Sankey Road              La Brasserie - Le Meridien\n",
       "40262       Sankey Road              La Brasserie - Le Meridien\n",
       "39416       Sankey Road              La Brasserie - Le Meridien\n",
       "37715       Sankey Road              La Brasserie - Le Meridien\n",
       "45611  Old Airport Road              Jamavar - The Leela Palace\n",
       "43348    Residency Road                Riwaz - The Ritz-Carlton\n",
       "13071  Race Course Road          Masala Klub - The Taj West End\n",
       "12663     Richmond Road     Edo Restaurant & Bar - ITC Gardenia\n",
       "12838    Residency Road             Grill 99 - The Ritz-Carlton\n",
       "43344     Richmond Road     Edo Restaurant & Bar - ITC Gardenia\n",
       "12677    Residency Road                Riwaz - The Ritz-Carlton\n",
       "43936    Residency Road                Riwaz - The Ritz-Carlton\n",
       "38705     Richmond Road     Edo Restaurant & Bar - ITC Gardenia\n",
       "6702     Residency Road                Riwaz - The Ritz-Carlton\n",
       "48115    Residency Road                Riwaz - The Ritz-Carlton"
      ]
     },
     "execution_count": 47,
     "metadata": {},
     "output_type": "execute_result"
    }
   ],
   "source": [
    "costliest = df.sort_values(by='cost',ascending=False)\n",
    "costliest = costliest[['location','name']]\n",
    "costliest.iloc[:20]"
   ]
  },
  {
   "cell_type": "code",
   "execution_count": 48,
   "id": "aa8df27f",
   "metadata": {},
   "outputs": [
    {
     "name": "stderr",
     "output_type": "stream",
     "text": [
      "C:\\Users\\user\\anaconda3\\lib\\site-packages\\seaborn\\distributions.py:2619: FutureWarning: `distplot` is a deprecated function and will be removed in a future version. Please adapt your code to use either `displot` (a figure-level function with similar flexibility) or `histplot` (an axes-level function for histograms).\n",
      "  warnings.warn(msg, FutureWarning)\n"
     ]
    },
    {
     "data": {
      "text/plain": [
       "<AxesSubplot:xlabel='cost', ylabel='Density'>"
      ]
     },
     "execution_count": 48,
     "metadata": {},
     "output_type": "execute_result"
    },
    {
     "data": {
      "image/png": "[encoded data removed]",
      "text/plain": [
       "<Figure size 864x432 with 1 Axes>"
      ]
     },
     "metadata": {
      "needs_background": "light"
     },
     "output_type": "display_data"
    }
   ],
   "source": [
    "plt.figure(figsize = (12,6))\n",
    "sns.distplot(df['cost'])"
   ]
  },
  {
   "cell_type": "markdown",
   "id": "63c11f48",
   "metadata": {},
   "source": [
    "### Insight:\n",
    "\n",
    "* Le Cirque Signature - The Leela Palace, Royal Afghan - ITC Windsor and Malties - Radisson Blu are the Top 3 costliest Restaurents in the location."
   ]
  },
  {
   "cell_type": "markdown",
   "id": "a85987e5",
   "metadata": {},
   "source": [
    "### Resturants with rating "
   ]
  },
  {
   "cell_type": "code",
   "execution_count": 49,
   "id": "56604f42",
   "metadata": {},
   "outputs": [],
   "source": [
    "# Dictionary is created for different ratings\n",
    "\n",
    "Resturant_rating = {}\n",
    "Resturant_rating['1 to 2'] = df[df['rate'] < 2 ].shape[0]\n",
    "Resturant_rating['2 to 3'] = df[(df['rate'] < 3) & (df['rate'] > 2) ].shape[0]\n",
    "Resturant_rating['3 to 4'] = df[(df['rate'] < 4) & (df['rate'] > 3) ].shape[0]\n",
    "Resturant_rating['4 to 5'] = df[(df['rate'] < 5) & (df['rate'] > 4) ].shape[0]"
   ]
  },
  {
   "cell_type": "code",
   "execution_count": 50,
   "id": "e1934137",
   "metadata": {},
   "outputs": [
    {
     "data": {
      "text/plain": [
       "{'1 to 2': 5, '2 to 3': 2241, '3 to 4': 33716, '4 to 5': 9210}"
      ]
     },
     "execution_count": 50,
     "metadata": {},
     "output_type": "execute_result"
    }
   ],
   "source": [
    "Resturant_rating"
   ]
  },
  {
   "cell_type": "code",
   "execution_count": 51,
   "id": "f7981c6f",
   "metadata": {},
   "outputs": [
    {
     "data": {
      "image/png": "[encoded data removed]",
      "text/plain": [
       "<Figure size 432x288 with 1 Axes>"
      ]
     },
     "metadata": {},
     "output_type": "display_data"
    }
   ],
   "source": [
    "plt.pie(Resturant_rating.values(), labels =Resturant_rating.keys(), autopct = '%.f%%')\n",
    "plt.show()"
   ]
  },
  {
   "cell_type": "markdown",
   "id": "e077c6b4",
   "metadata": {},
   "source": [
    "### Insight:\n",
    "\n",
    "* Ratings are provided by Customer: 75% rating are in between 3-4, 20% rating are in between 4-5 and 5% rating are in between 2-3."
   ]
  },
  {
   "cell_type": "markdown",
   "id": "45d85374",
   "metadata": {},
   "source": [
    "### Different cusines resturants available"
   ]
  },
  {
   "cell_type": "code",
   "execution_count": 52,
   "id": "c9c54c7f",
   "metadata": {},
   "outputs": [
    {
     "name": "stdout",
     "output_type": "stream",
     "text": [
      "{'Mithai', 'Goan', 'Kerala', 'Bar Food', 'Mexican', 'Andhra', 'Afghan', 'Raw Meats', 'South Indian', 'Chettinad', 'Italian', 'Bengali', 'Drinks Only', 'Chinese', 'Tamil', 'African', 'French', 'Sindhi', 'Biryani', 'Thai', 'Charcoal Chicken', 'Ice Cream', 'Paan', 'Lucknowi', 'Spanish', 'European', 'Cantonese', 'Afghani', 'Assamese', 'North Indian', 'Belgian', 'Mughlai', 'BBQ', 'Malaysian', 'Finger Food', 'Maharashtrian', 'Bakery', 'Burmese', 'Modern Indian', 'Mangalorean', 'Indonesian', 'Mediterranean', 'Rajasthani', 'Sri Lankan', 'Salad', 'Coffee', 'Greek', 'Asian', 'Portuguese', 'Momos', 'British', 'Lebanese', 'American', 'Tea', 'Hyderabadi', 'Nepalese', 'Mongolian', 'German', 'Parsi', 'Oriya', 'Bubble Tea', 'Healthy Food', 'Desserts', 'Japanese', 'Vietnamese', 'Singaporean', 'Hot dogs', 'Vegan', 'Sandwich', 'Wraps', 'Beverages', 'Grill', 'Bohri', 'Fast Food', 'Iranian', 'Turkish', 'Korean', 'Rolls', 'Konkan', 'Steak', 'Tex-Mex', 'Tibetan', 'Jewish', 'Street Food', 'Juices', 'Pizza', 'North Eastern', 'Roast Chicken', 'Australian', 'Bihari', 'Middle Eastern', 'Arabian', 'Kashmiri', 'South American', 'Russian', 'Cafe', 'Continental', 'Pan Asian', 'Sushi', 'Malwani', 'Seafood', 'Burger', 'Awadhi', 'Naga', 'Kebab', 'Gujarati'}\n"
     ]
    }
   ],
   "source": [
    "import re\n",
    "\n",
    "df.index=range(df.shape[0])\n",
    "cusine=set()\n",
    "for i in range(df.shape[0]):\n",
    "    array_split=re.split(',',df['cuisines'][i])\n",
    "    for item in array_split:\n",
    "        cusine.add(item.strip())\n",
    "print(cusine)"
   ]
  },
  {
   "cell_type": "markdown",
   "id": "c5bec7f0",
   "metadata": {},
   "source": [
    "### Fininding most liked dishes"
   ]
  },
  {
   "cell_type": "code",
   "execution_count": 53,
   "id": "57f0152f",
   "metadata": {},
   "outputs": [
    {
     "data": {
      "image/png": "[encoded data removed]",
      "text/plain": [
       "<Figure size 720x360 with 1 Axes>"
      ]
     },
     "metadata": {
      "needs_background": "light"
     },
     "output_type": "display_data"
    }
   ],
   "source": [
    "mostliked = []\n",
    "\n",
    "for i in range(df.shape[0]):\n",
    "    if df['dish_liked'][i] != 'No Special Dish':\n",
    "        array_split=re.split(',',df['dish_liked'][i])\n",
    "        for item in array_split:\n",
    "            mostliked.append(item.strip())\n",
    "    else:\n",
    "        continue\n",
    "\n",
    "mostliked_ser = pd.Series(mostliked)\n",
    "plt.figure(figsize=(10,5))\n",
    "sns.barplot(y=mostliked_ser.value_counts()[0:20].index, x=mostliked_ser.value_counts()[0:20])\n",
    "plt.xlabel('Number resturants marked as most liked')\n",
    "plt.ylabel('Dish')\n",
    "plt.show()"
   ]
  },
  {
   "cell_type": "markdown",
   "id": "a9ba8571",
   "metadata": {},
   "source": [
    "### Insight:\n",
    "\n",
    "* Pasta is the most liked dish among other dishes and Burger, Cocktails, Pizza are followed and so on."
   ]
  },
  {
   "cell_type": "markdown",
   "id": "7ac3b262",
   "metadata": {},
   "source": [
    "### Visualizing online order vs rate (means rating)"
   ]
  },
  {
   "cell_type": "code",
   "execution_count": 54,
   "id": "b9fe1dd0",
   "metadata": {},
   "outputs": [
    {
     "data": {
      "text/html": [
       "<div>\n",
       "<style scoped>\n",
       "    .dataframe tbody tr th:only-of-type {\n",
       "        vertical-align: middle;\n",
       "    }\n",
       "\n",
       "    .dataframe tbody tr th {\n",
       "        vertical-align: top;\n",
       "    }\n",
       "\n",
       "    .dataframe thead th {\n",
       "        text-align: right;\n",
       "    }\n",
       "</style>\n",
       "<table border=\"1\" class=\"dataframe\">\n",
       "  <thead>\n",
       "    <tr style=\"text-align: right;\">\n",
       "      <th>rate</th>\n",
       "      <th>1.8</th>\n",
       "      <th>2.0</th>\n",
       "      <th>2.1</th>\n",
       "      <th>2.2</th>\n",
       "      <th>2.3</th>\n",
       "      <th>2.4</th>\n",
       "      <th>2.5</th>\n",
       "      <th>2.6</th>\n",
       "      <th>2.7</th>\n",
       "      <th>2.8</th>\n",
       "      <th>...</th>\n",
       "      <th>4.0</th>\n",
       "      <th>4.1</th>\n",
       "      <th>4.2</th>\n",
       "      <th>4.3</th>\n",
       "      <th>4.4</th>\n",
       "      <th>4.5</th>\n",
       "      <th>4.6</th>\n",
       "      <th>4.7</th>\n",
       "      <th>4.8</th>\n",
       "      <th>4.9</th>\n",
       "    </tr>\n",
       "    <tr>\n",
       "      <th>online_order</th>\n",
       "      <th></th>\n",
       "      <th></th>\n",
       "      <th></th>\n",
       "      <th></th>\n",
       "      <th></th>\n",
       "      <th></th>\n",
       "      <th></th>\n",
       "      <th></th>\n",
       "      <th></th>\n",
       "      <th></th>\n",
       "      <th></th>\n",
       "      <th></th>\n",
       "      <th></th>\n",
       "      <th></th>\n",
       "      <th></th>\n",
       "      <th></th>\n",
       "      <th></th>\n",
       "      <th></th>\n",
       "      <th></th>\n",
       "      <th></th>\n",
       "      <th></th>\n",
       "    </tr>\n",
       "  </thead>\n",
       "  <tbody>\n",
       "    <tr>\n",
       "      <th>No</th>\n",
       "      <td>5</td>\n",
       "      <td>11</td>\n",
       "      <td>9</td>\n",
       "      <td>10</td>\n",
       "      <td>29</td>\n",
       "      <td>36</td>\n",
       "      <td>38</td>\n",
       "      <td>83</td>\n",
       "      <td>141</td>\n",
       "      <td>224</td>\n",
       "      <td>...</td>\n",
       "      <td>874</td>\n",
       "      <td>842</td>\n",
       "      <td>648</td>\n",
       "      <td>691</td>\n",
       "      <td>374</td>\n",
       "      <td>297</td>\n",
       "      <td>140</td>\n",
       "      <td>113</td>\n",
       "      <td>34</td>\n",
       "      <td>12</td>\n",
       "    </tr>\n",
       "    <tr>\n",
       "      <th>Yes</th>\n",
       "      <td>0</td>\n",
       "      <td>0</td>\n",
       "      <td>15</td>\n",
       "      <td>16</td>\n",
       "      <td>22</td>\n",
       "      <td>34</td>\n",
       "      <td>63</td>\n",
       "      <td>177</td>\n",
       "      <td>166</td>\n",
       "      <td>376</td>\n",
       "      <td>...</td>\n",
       "      <td>2308</td>\n",
       "      <td>2103</td>\n",
       "      <td>1535</td>\n",
       "      <td>1000</td>\n",
       "      <td>773</td>\n",
       "      <td>359</td>\n",
       "      <td>160</td>\n",
       "      <td>54</td>\n",
       "      <td>32</td>\n",
       "      <td>43</td>\n",
       "    </tr>\n",
       "  </tbody>\n",
       "</table>\n",
       "<p>2 rows × 32 columns</p>\n",
       "</div>"
      ],
      "text/plain": [
       "rate          1.8  2.0  2.1  2.2  2.3  2.4  2.5  2.6  2.7  2.8  ...   4.0  \\\n",
       "online_order                                                    ...         \n",
       "No              5   11    9   10   29   36   38   83  141  224  ...   874   \n",
       "Yes             0    0   15   16   22   34   63  177  166  376  ...  2308   \n",
       "\n",
       "rate           4.1   4.2   4.3  4.4  4.5  4.6  4.7  4.8  4.9  \n",
       "online_order                                                  \n",
       "No             842   648   691  374  297  140  113   34   12  \n",
       "Yes           2103  1535  1000  773  359  160   54   32   43  \n",
       "\n",
       "[2 rows x 32 columns]"
      ]
     },
     "execution_count": 54,
     "metadata": {},
     "output_type": "execute_result"
    }
   ],
   "source": [
    "pd.crosstab(df.online_order, df.rate)"
   ]
  },
  {
   "cell_type": "code",
   "execution_count": 55,
   "id": "6a7083fe",
   "metadata": {},
   "outputs": [
    {
     "data": {
      "text/plain": [
       "online_order\n",
       "No     20086.0\n",
       "Yes    29301.0\n",
       "dtype: float64"
      ]
     },
     "execution_count": 55,
     "metadata": {},
     "output_type": "execute_result"
    }
   ],
   "source": [
    "Y = pd.crosstab(df.online_order, df.rate)\n",
    "Y.sum(1).astype(float)"
   ]
  },
  {
   "cell_type": "code",
   "execution_count": 56,
   "id": "eebd144e",
   "metadata": {},
   "outputs": [
    {
     "data": {
      "text/plain": [
       "Text(0.5, 1.0, 'Online Order vs Rate(Rating)')"
      ]
     },
     "execution_count": 56,
     "metadata": {},
     "output_type": "execute_result"
    },
    {
     "data": {
      "text/plain": [
       "<Figure size 864x432 with 0 Axes>"
      ]
     },
     "metadata": {},
     "output_type": "display_data"
    },
    {
     "data": {
      "image/png": "[encoded data removed]",
      "text/plain": [
       "<Figure size 432x288 with 1 Axes>"
      ]
     },
     "metadata": {
      "needs_background": "light"
     },
     "output_type": "display_data"
    }
   ],
   "source": [
    "plt.figure(figsize = (12,6))\n",
    "Y = pd.crosstab(df.rate, df.online_order)\n",
    "Y.div(Y.sum(1).astype(float), axis = 0).plot(kind = 'bar', stacked = True)\n",
    "plt.title('Online Order vs Rate(Rating)', fontsize = 18)"
   ]
  },
  {
   "cell_type": "markdown",
   "id": "1fe49f76",
   "metadata": {},
   "source": [
    "### Insight:\n",
    "\n",
    "* The Ratings are varying in between 2.1 to 4.9 during online order from restaurents."
   ]
  },
  {
   "cell_type": "markdown",
   "id": "fa7fecc1",
   "metadata": {},
   "source": [
    "### Visualizing book table vs rate (means rating)"
   ]
  },
  {
   "cell_type": "code",
   "execution_count": 57,
   "id": "8f973286",
   "metadata": {},
   "outputs": [
    {
     "data": {
      "text/plain": [
       "Text(0.5, 1.0, 'Book_table vs Rate(Rating)')"
      ]
     },
     "execution_count": 57,
     "metadata": {},
     "output_type": "execute_result"
    },
    {
     "data": {
      "text/plain": [
       "<Figure size 864x432 with 0 Axes>"
      ]
     },
     "metadata": {},
     "output_type": "display_data"
    },
    {
     "data": {
      "image/png": "[encoded data removed]",
      "text/plain": [
       "<Figure size 432x288 with 1 Axes>"
      ]
     },
     "metadata": {
      "needs_background": "light"
     },
     "output_type": "display_data"
    }
   ],
   "source": [
    "plt.figure(figsize = (12,6))\n",
    "Y = pd.crosstab(df.rate, df.book_table)\n",
    "Y.div(Y.sum(1).astype(float), axis = 0).plot(kind = 'bar', stacked = True)\n",
    "plt.title('Book_table vs Rate(Rating)', fontsize = 18)"
   ]
  },
  {
   "cell_type": "markdown",
   "id": "c0781302",
   "metadata": {},
   "source": [
    "### Insight:\n",
    "\n",
    "* Most of the Rating above 4 while taking the Book table facility in the restaurents."
   ]
  },
  {
   "cell_type": "markdown",
   "id": "2cd01d4d",
   "metadata": {},
   "source": [
    "### Visualize online order falility, location wise"
   ]
  },
  {
   "cell_type": "code",
   "execution_count": 58,
   "id": "c3f2cfd8",
   "metadata": {},
   "outputs": [
    {
     "data": {
      "text/html": [
       "<div>\n",
       "<style scoped>\n",
       "    .dataframe tbody tr th:only-of-type {\n",
       "        vertical-align: middle;\n",
       "    }\n",
       "\n",
       "    .dataframe tbody tr th {\n",
       "        vertical-align: top;\n",
       "    }\n",
       "\n",
       "    .dataframe thead tr th {\n",
       "        text-align: left;\n",
       "    }\n",
       "\n",
       "    .dataframe thead tr:last-of-type th {\n",
       "        text-align: right;\n",
       "    }\n",
       "</style>\n",
       "<table border=\"1\" class=\"dataframe\">\n",
       "  <thead>\n",
       "    <tr>\n",
       "      <th></th>\n",
       "      <th colspan=\"2\" halign=\"left\">name</th>\n",
       "    </tr>\n",
       "    <tr>\n",
       "      <th>online_order</th>\n",
       "      <th>No</th>\n",
       "      <th>Yes</th>\n",
       "    </tr>\n",
       "    <tr>\n",
       "      <th>location</th>\n",
       "      <th></th>\n",
       "      <th></th>\n",
       "    </tr>\n",
       "  </thead>\n",
       "  <tbody>\n",
       "    <tr>\n",
       "      <th>BTM</th>\n",
       "      <td>1650.0</td>\n",
       "      <td>3152.0</td>\n",
       "    </tr>\n",
       "    <tr>\n",
       "      <th>Banashankari</th>\n",
       "      <td>362.0</td>\n",
       "      <td>483.0</td>\n",
       "    </tr>\n",
       "    <tr>\n",
       "      <th>Banaswadi</th>\n",
       "      <td>308.0</td>\n",
       "      <td>333.0</td>\n",
       "    </tr>\n",
       "    <tr>\n",
       "      <th>Bannerghatta Road</th>\n",
       "      <td>657.0</td>\n",
       "      <td>882.0</td>\n",
       "    </tr>\n",
       "    <tr>\n",
       "      <th>Basavanagudi</th>\n",
       "      <td>219.0</td>\n",
       "      <td>432.0</td>\n",
       "    </tr>\n",
       "    <tr>\n",
       "      <th>...</th>\n",
       "      <td>...</td>\n",
       "      <td>...</td>\n",
       "    </tr>\n",
       "    <tr>\n",
       "      <th>West Bangalore</th>\n",
       "      <td>2.0</td>\n",
       "      <td>2.0</td>\n",
       "    </tr>\n",
       "    <tr>\n",
       "      <th>Whitefield</th>\n",
       "      <td>956.0</td>\n",
       "      <td>1076.0</td>\n",
       "    </tr>\n",
       "    <tr>\n",
       "      <th>Wilson Garden</th>\n",
       "      <td>98.0</td>\n",
       "      <td>132.0</td>\n",
       "    </tr>\n",
       "    <tr>\n",
       "      <th>Yelahanka</th>\n",
       "      <td>1.0</td>\n",
       "      <td>5.0</td>\n",
       "    </tr>\n",
       "    <tr>\n",
       "      <th>Yeshwantpur</th>\n",
       "      <td>26.0</td>\n",
       "      <td>93.0</td>\n",
       "    </tr>\n",
       "  </tbody>\n",
       "</table>\n",
       "<p>93 rows × 2 columns</p>\n",
       "</div>"
      ],
      "text/plain": [
       "                     name        \n",
       "online_order           No     Yes\n",
       "location                         \n",
       "BTM                1650.0  3152.0\n",
       "Banashankari        362.0   483.0\n",
       "Banaswadi           308.0   333.0\n",
       "Bannerghatta Road   657.0   882.0\n",
       "Basavanagudi        219.0   432.0\n",
       "...                   ...     ...\n",
       "West Bangalore        2.0     2.0\n",
       "Whitefield          956.0  1076.0\n",
       "Wilson Garden        98.0   132.0\n",
       "Yelahanka             1.0     5.0\n",
       "Yeshwantpur          26.0    93.0\n",
       "\n",
       "[93 rows x 2 columns]"
      ]
     },
     "execution_count": 58,
     "metadata": {},
     "output_type": "execute_result"
    }
   ],
   "source": [
    "df1 = df.groupby(['location','online_order'])['name'].count()\n",
    "df1.to_csv('location_online.csv')\n",
    "df1 = pd.read_csv('location_online.csv')\n",
    "df1 = pd.pivot_table(data = df1, values = None, index = ['location'], columns = ['online_order'], aggfunc = 'sum', fill_value = None)\n",
    "df1"
   ]
  },
  {
   "cell_type": "code",
   "execution_count": 59,
   "id": "cfd308ef",
   "metadata": {},
   "outputs": [
    {
     "data": {
      "text/plain": [
       "<AxesSubplot:xlabel='location'>"
      ]
     },
     "execution_count": 59,
     "metadata": {},
     "output_type": "execute_result"
    },
    {
     "data": {
      "image/png": "[encoded data removed]",
      "text/plain": [
       "<Figure size 1080x576 with 1 Axes>"
      ]
     },
     "metadata": {
      "needs_background": "light"
     },
     "output_type": "display_data"
    }
   ],
   "source": [
    "df1.plot(kind = 'bar', figsize = (15,8))"
   ]
  },
  {
   "cell_type": "markdown",
   "id": "edb73468",
   "metadata": {},
   "source": [
    "### Insight:\n",
    "\n",
    "* BTM location is the highest both for online order provided and also online order not provided by the restaurents."
   ]
  },
  {
   "cell_type": "markdown",
   "id": "663d5790",
   "metadata": {},
   "source": [
    "### Visualize book table falility, location wise"
   ]
  },
  {
   "cell_type": "code",
   "execution_count": 60,
   "id": "1255ff28",
   "metadata": {},
   "outputs": [
    {
     "data": {
      "text/html": [
       "<div>\n",
       "<style scoped>\n",
       "    .dataframe tbody tr th:only-of-type {\n",
       "        vertical-align: middle;\n",
       "    }\n",
       "\n",
       "    .dataframe tbody tr th {\n",
       "        vertical-align: top;\n",
       "    }\n",
       "\n",
       "    .dataframe thead tr th {\n",
       "        text-align: left;\n",
       "    }\n",
       "\n",
       "    .dataframe thead tr:last-of-type th {\n",
       "        text-align: right;\n",
       "    }\n",
       "</style>\n",
       "<table border=\"1\" class=\"dataframe\">\n",
       "  <thead>\n",
       "    <tr>\n",
       "      <th></th>\n",
       "      <th colspan=\"2\" halign=\"left\">name</th>\n",
       "    </tr>\n",
       "    <tr>\n",
       "      <th>book_table</th>\n",
       "      <th>No</th>\n",
       "      <th>Yes</th>\n",
       "    </tr>\n",
       "    <tr>\n",
       "      <th>location</th>\n",
       "      <th></th>\n",
       "      <th></th>\n",
       "    </tr>\n",
       "  </thead>\n",
       "  <tbody>\n",
       "    <tr>\n",
       "      <th>BTM</th>\n",
       "      <td>4646.0</td>\n",
       "      <td>156.0</td>\n",
       "    </tr>\n",
       "    <tr>\n",
       "      <th>Banashankari</th>\n",
       "      <td>790.0</td>\n",
       "      <td>55.0</td>\n",
       "    </tr>\n",
       "    <tr>\n",
       "      <th>Banaswadi</th>\n",
       "      <td>633.0</td>\n",
       "      <td>8.0</td>\n",
       "    </tr>\n",
       "    <tr>\n",
       "      <th>Bannerghatta Road</th>\n",
       "      <td>1440.0</td>\n",
       "      <td>99.0</td>\n",
       "    </tr>\n",
       "    <tr>\n",
       "      <th>Basavanagudi</th>\n",
       "      <td>635.0</td>\n",
       "      <td>16.0</td>\n",
       "    </tr>\n",
       "    <tr>\n",
       "      <th>...</th>\n",
       "      <td>...</td>\n",
       "      <td>...</td>\n",
       "    </tr>\n",
       "    <tr>\n",
       "      <th>West Bangalore</th>\n",
       "      <td>4.0</td>\n",
       "      <td>NaN</td>\n",
       "    </tr>\n",
       "    <tr>\n",
       "      <th>Whitefield</th>\n",
       "      <td>1780.0</td>\n",
       "      <td>252.0</td>\n",
       "    </tr>\n",
       "    <tr>\n",
       "      <th>Wilson Garden</th>\n",
       "      <td>225.0</td>\n",
       "      <td>5.0</td>\n",
       "    </tr>\n",
       "    <tr>\n",
       "      <th>Yelahanka</th>\n",
       "      <td>6.0</td>\n",
       "      <td>NaN</td>\n",
       "    </tr>\n",
       "    <tr>\n",
       "      <th>Yeshwantpur</th>\n",
       "      <td>117.0</td>\n",
       "      <td>2.0</td>\n",
       "    </tr>\n",
       "  </tbody>\n",
       "</table>\n",
       "<p>93 rows × 2 columns</p>\n",
       "</div>"
      ],
      "text/plain": [
       "                     name       \n",
       "book_table             No    Yes\n",
       "location                        \n",
       "BTM                4646.0  156.0\n",
       "Banashankari        790.0   55.0\n",
       "Banaswadi           633.0    8.0\n",
       "Bannerghatta Road  1440.0   99.0\n",
       "Basavanagudi        635.0   16.0\n",
       "...                   ...    ...\n",
       "West Bangalore        4.0    NaN\n",
       "Whitefield         1780.0  252.0\n",
       "Wilson Garden       225.0    5.0\n",
       "Yelahanka             6.0    NaN\n",
       "Yeshwantpur         117.0    2.0\n",
       "\n",
       "[93 rows x 2 columns]"
      ]
     },
     "execution_count": 60,
     "metadata": {},
     "output_type": "execute_result"
    }
   ],
   "source": [
    "df2 = df.groupby(['location','book_table'])['name'].count()\n",
    "df2.to_csv('location_booktable.csv')\n",
    "df2 = pd.read_csv('location_booktable.csv')\n",
    "df2 = pd.pivot_table(data = df2, values = None, index = ['location'], columns = ['book_table'], aggfunc = np.sum, fill_value = None)\n",
    "df2"
   ]
  },
  {
   "cell_type": "code",
   "execution_count": 61,
   "id": "d60967e0",
   "metadata": {},
   "outputs": [
    {
     "data": {
      "text/plain": [
       "<AxesSubplot:xlabel='location'>"
      ]
     },
     "execution_count": 61,
     "metadata": {},
     "output_type": "execute_result"
    },
    {
     "data": {
      "image/png": "[encoded data removed]",
      "text/plain": [
       "<Figure size 1080x576 with 1 Axes>"
      ]
     },
     "metadata": {
      "needs_background": "light"
     },
     "output_type": "display_data"
    }
   ],
   "source": [
    "df2.plot(kind = 'bar', figsize = (15,8))"
   ]
  },
  {
   "cell_type": "markdown",
   "id": "d0751e96",
   "metadata": {},
   "source": [
    "### Insight:\n",
    "\n",
    "* BTM location is highest for Book table facility provided and Koramangala 5th Bolck location is highest for not provided book table facility."
   ]
  },
  {
   "cell_type": "markdown",
   "id": "032f926d",
   "metadata": {},
   "source": [
    "### Grouping types of restaurents, location wise"
   ]
  },
  {
   "cell_type": "code",
   "execution_count": 62,
   "id": "c3446a9b",
   "metadata": {},
   "outputs": [
    {
     "data": {
      "text/html": [
       "<div>\n",
       "<style scoped>\n",
       "    .dataframe tbody tr th:only-of-type {\n",
       "        vertical-align: middle;\n",
       "    }\n",
       "\n",
       "    .dataframe tbody tr th {\n",
       "        vertical-align: top;\n",
       "    }\n",
       "\n",
       "    .dataframe thead tr th {\n",
       "        text-align: left;\n",
       "    }\n",
       "\n",
       "    .dataframe thead tr:last-of-type th {\n",
       "        text-align: right;\n",
       "    }\n",
       "</style>\n",
       "<table border=\"1\" class=\"dataframe\">\n",
       "  <thead>\n",
       "    <tr>\n",
       "      <th></th>\n",
       "      <th colspan=\"7\" halign=\"left\">name</th>\n",
       "    </tr>\n",
       "    <tr>\n",
       "      <th>Type</th>\n",
       "      <th>Buffet</th>\n",
       "      <th>Cafes</th>\n",
       "      <th>Delivery</th>\n",
       "      <th>Desserts</th>\n",
       "      <th>Dine-out</th>\n",
       "      <th>Drinks &amp; nightlife</th>\n",
       "      <th>Pubs and bars</th>\n",
       "    </tr>\n",
       "    <tr>\n",
       "      <th>location</th>\n",
       "      <th></th>\n",
       "      <th></th>\n",
       "      <th></th>\n",
       "      <th></th>\n",
       "      <th></th>\n",
       "      <th></th>\n",
       "      <th></th>\n",
       "    </tr>\n",
       "  </thead>\n",
       "  <tbody>\n",
       "    <tr>\n",
       "      <th>BTM</th>\n",
       "      <td>26.0</td>\n",
       "      <td>81.0</td>\n",
       "      <td>2894.0</td>\n",
       "      <td>200.0</td>\n",
       "      <td>1563.0</td>\n",
       "      <td>22.0</td>\n",
       "      <td>16.0</td>\n",
       "    </tr>\n",
       "    <tr>\n",
       "      <th>Banashankari</th>\n",
       "      <td>7.0</td>\n",
       "      <td>36.0</td>\n",
       "      <td>387.0</td>\n",
       "      <td>66.0</td>\n",
       "      <td>335.0</td>\n",
       "      <td>14.0</td>\n",
       "      <td>NaN</td>\n",
       "    </tr>\n",
       "    <tr>\n",
       "      <th>Banaswadi</th>\n",
       "      <td>NaN</td>\n",
       "      <td>24.0</td>\n",
       "      <td>309.0</td>\n",
       "      <td>37.0</td>\n",
       "      <td>264.0</td>\n",
       "      <td>6.0</td>\n",
       "      <td>1.0</td>\n",
       "    </tr>\n",
       "    <tr>\n",
       "      <th>Bannerghatta Road</th>\n",
       "      <td>9.0</td>\n",
       "      <td>42.0</td>\n",
       "      <td>798.0</td>\n",
       "      <td>131.0</td>\n",
       "      <td>548.0</td>\n",
       "      <td>9.0</td>\n",
       "      <td>2.0</td>\n",
       "    </tr>\n",
       "    <tr>\n",
       "      <th>Basavanagudi</th>\n",
       "      <td>7.0</td>\n",
       "      <td>11.0</td>\n",
       "      <td>334.0</td>\n",
       "      <td>63.0</td>\n",
       "      <td>231.0</td>\n",
       "      <td>5.0</td>\n",
       "      <td>NaN</td>\n",
       "    </tr>\n",
       "    <tr>\n",
       "      <th>...</th>\n",
       "      <td>...</td>\n",
       "      <td>...</td>\n",
       "      <td>...</td>\n",
       "      <td>...</td>\n",
       "      <td>...</td>\n",
       "      <td>...</td>\n",
       "      <td>...</td>\n",
       "    </tr>\n",
       "    <tr>\n",
       "      <th>West Bangalore</th>\n",
       "      <td>NaN</td>\n",
       "      <td>NaN</td>\n",
       "      <td>4.0</td>\n",
       "      <td>NaN</td>\n",
       "      <td>NaN</td>\n",
       "      <td>NaN</td>\n",
       "      <td>NaN</td>\n",
       "    </tr>\n",
       "    <tr>\n",
       "      <th>Whitefield</th>\n",
       "      <td>27.0</td>\n",
       "      <td>48.0</td>\n",
       "      <td>1005.0</td>\n",
       "      <td>128.0</td>\n",
       "      <td>744.0</td>\n",
       "      <td>47.0</td>\n",
       "      <td>33.0</td>\n",
       "    </tr>\n",
       "    <tr>\n",
       "      <th>Wilson Garden</th>\n",
       "      <td>3.0</td>\n",
       "      <td>NaN</td>\n",
       "      <td>127.0</td>\n",
       "      <td>16.0</td>\n",
       "      <td>81.0</td>\n",
       "      <td>2.0</td>\n",
       "      <td>1.0</td>\n",
       "    </tr>\n",
       "    <tr>\n",
       "      <th>Yelahanka</th>\n",
       "      <td>NaN</td>\n",
       "      <td>NaN</td>\n",
       "      <td>4.0</td>\n",
       "      <td>NaN</td>\n",
       "      <td>2.0</td>\n",
       "      <td>NaN</td>\n",
       "      <td>NaN</td>\n",
       "    </tr>\n",
       "    <tr>\n",
       "      <th>Yeshwantpur</th>\n",
       "      <td>1.0</td>\n",
       "      <td>NaN</td>\n",
       "      <td>88.0</td>\n",
       "      <td>3.0</td>\n",
       "      <td>25.0</td>\n",
       "      <td>1.0</td>\n",
       "      <td>1.0</td>\n",
       "    </tr>\n",
       "  </tbody>\n",
       "</table>\n",
       "<p>93 rows × 7 columns</p>\n",
       "</div>"
      ],
      "text/plain": [
       "                    name                                                      \\\n",
       "Type              Buffet Cafes Delivery Desserts Dine-out Drinks & nightlife   \n",
       "location                                                                       \n",
       "BTM                 26.0  81.0   2894.0    200.0   1563.0               22.0   \n",
       "Banashankari         7.0  36.0    387.0     66.0    335.0               14.0   \n",
       "Banaswadi            NaN  24.0    309.0     37.0    264.0                6.0   \n",
       "Bannerghatta Road    9.0  42.0    798.0    131.0    548.0                9.0   \n",
       "Basavanagudi         7.0  11.0    334.0     63.0    231.0                5.0   \n",
       "...                  ...   ...      ...      ...      ...                ...   \n",
       "West Bangalore       NaN   NaN      4.0      NaN      NaN                NaN   \n",
       "Whitefield          27.0  48.0   1005.0    128.0    744.0               47.0   \n",
       "Wilson Garden        3.0   NaN    127.0     16.0     81.0                2.0   \n",
       "Yelahanka            NaN   NaN      4.0      NaN      2.0                NaN   \n",
       "Yeshwantpur          1.0   NaN     88.0      3.0     25.0                1.0   \n",
       "\n",
       "                                 \n",
       "Type              Pubs and bars  \n",
       "location                         \n",
       "BTM                        16.0  \n",
       "Banashankari                NaN  \n",
       "Banaswadi                   1.0  \n",
       "Bannerghatta Road           2.0  \n",
       "Basavanagudi                NaN  \n",
       "...                         ...  \n",
       "West Bangalore              NaN  \n",
       "Whitefield                 33.0  \n",
       "Wilson Garden               1.0  \n",
       "Yelahanka                   NaN  \n",
       "Yeshwantpur                 1.0  \n",
       "\n",
       "[93 rows x 7 columns]"
      ]
     },
     "execution_count": 62,
     "metadata": {},
     "output_type": "execute_result"
    }
   ],
   "source": [
    "df3 = df.groupby(['location', 'Type'])['name'].count()\n",
    "df3.to_csv('location_Type.csv')\n",
    "df3 = pd.read_csv('location_Type.csv')\n",
    "df3 = pd.pivot_table(data = df3, values = None, index = ['location'], columns = ['Type'], aggfunc = np.sum, fill_value = None)\n",
    "df3"
   ]
  },
  {
   "cell_type": "code",
   "execution_count": 63,
   "id": "3c25aa6f",
   "metadata": {},
   "outputs": [
    {
     "data": {
      "text/plain": [
       "<AxesSubplot:xlabel='location'>"
      ]
     },
     "execution_count": 63,
     "metadata": {},
     "output_type": "execute_result"
    },
    {
     "data": {
      "image/png": "[encoded data removed]",
      "text/plain": [
       "<Figure size 1728x576 with 1 Axes>"
      ]
     },
     "metadata": {
      "needs_background": "light"
     },
     "output_type": "display_data"
    }
   ],
   "source": [
    "df3.plot(kind = 'bar', figsize = (24,8))"
   ]
  },
  {
   "cell_type": "markdown",
   "id": "cdb685c3",
   "metadata": {},
   "source": [
    "### No. of Votes, Location Wise"
   ]
  },
  {
   "cell_type": "code",
   "execution_count": 64,
   "id": "87129055",
   "metadata": {},
   "outputs": [
    {
     "data": {
      "text/html": [
       "<div>\n",
       "<style scoped>\n",
       "    .dataframe tbody tr th:only-of-type {\n",
       "        vertical-align: middle;\n",
       "    }\n",
       "\n",
       "    .dataframe tbody tr th {\n",
       "        vertical-align: top;\n",
       "    }\n",
       "\n",
       "    .dataframe thead th {\n",
       "        text-align: right;\n",
       "    }\n",
       "</style>\n",
       "<table border=\"1\" class=\"dataframe\">\n",
       "  <thead>\n",
       "    <tr style=\"text-align: right;\">\n",
       "      <th></th>\n",
       "      <th>votes</th>\n",
       "    </tr>\n",
       "    <tr>\n",
       "      <th>location</th>\n",
       "      <th></th>\n",
       "    </tr>\n",
       "  </thead>\n",
       "  <tbody>\n",
       "    <tr>\n",
       "      <th>Koramangala 5th Block</th>\n",
       "      <td>2219495</td>\n",
       "    </tr>\n",
       "    <tr>\n",
       "      <th>Indiranagar</th>\n",
       "      <td>1195307</td>\n",
       "    </tr>\n",
       "    <tr>\n",
       "      <th>Koramangala 4th Block</th>\n",
       "      <td>685156</td>\n",
       "    </tr>\n",
       "    <tr>\n",
       "      <th>BTM</th>\n",
       "      <td>618986</td>\n",
       "    </tr>\n",
       "    <tr>\n",
       "      <th>Church Street</th>\n",
       "      <td>594979</td>\n",
       "    </tr>\n",
       "  </tbody>\n",
       "</table>\n",
       "</div>"
      ],
      "text/plain": [
       "                         votes\n",
       "location                      \n",
       "Koramangala 5th Block  2219495\n",
       "Indiranagar            1195307\n",
       "Koramangala 4th Block   685156\n",
       "BTM                     618986\n",
       "Church Street           594979"
      ]
     },
     "execution_count": 64,
     "metadata": {},
     "output_type": "execute_result"
    }
   ],
   "source": [
    "df4 = df.groupby(['location'])['votes'].sum()\n",
    "df4 = df4.to_frame()\n",
    "df4 = df4.sort_values('votes', ascending = False)\n",
    "df4.head()"
   ]
  },
  {
   "cell_type": "code",
   "execution_count": 65,
   "id": "9acba5cf",
   "metadata": {},
   "outputs": [
    {
     "name": "stderr",
     "output_type": "stream",
     "text": [
      "C:\\Users\\user\\anaconda3\\lib\\site-packages\\seaborn\\_decorators.py:36: FutureWarning: Pass the following variables as keyword args: x, y. From version 0.12, the only valid positional argument will be `data`, and passing other arguments without an explicit keyword will result in an error or misinterpretation.\n",
      "  warnings.warn(\n"
     ]
    },
    {
     "data": {
      "image/png": "[encoded data removed]",
      "text/plain": [
       "<Figure size 1080x576 with 1 Axes>"
      ]
     },
     "metadata": {
      "needs_background": "light"
     },
     "output_type": "display_data"
    }
   ],
   "source": [
    "plt.figure(figsize = (15,8))\n",
    "sns.barplot(df4.index, df4['votes'])\n",
    "plt.xticks(rotation = 90);"
   ]
  },
  {
   "cell_type": "markdown",
   "id": "034d85bc",
   "metadata": {},
   "source": [
    "### Insight:\n",
    "\n",
    "* Koramangala 5th Bolck is the highest for maximum Votes received by the customers. Indiranagar, Koramangala 4th Bolck, BTM are followed and so on."
   ]
  },
  {
   "cell_type": "markdown",
   "id": "5834646a",
   "metadata": {},
   "source": [
    "### Visualizing Top Cuisines based on Votes"
   ]
  },
  {
   "cell_type": "code",
   "execution_count": 66,
   "id": "ae32fc84",
   "metadata": {},
   "outputs": [
    {
     "data": {
      "text/html": [
       "<div>\n",
       "<style scoped>\n",
       "    .dataframe tbody tr th:only-of-type {\n",
       "        vertical-align: middle;\n",
       "    }\n",
       "\n",
       "    .dataframe tbody tr th {\n",
       "        vertical-align: top;\n",
       "    }\n",
       "\n",
       "    .dataframe thead th {\n",
       "        text-align: right;\n",
       "    }\n",
       "</style>\n",
       "<table border=\"1\" class=\"dataframe\">\n",
       "  <thead>\n",
       "    <tr style=\"text-align: right;\">\n",
       "      <th></th>\n",
       "      <th>votes</th>\n",
       "    </tr>\n",
       "    <tr>\n",
       "      <th>cuisines</th>\n",
       "      <th></th>\n",
       "    </tr>\n",
       "  </thead>\n",
       "  <tbody>\n",
       "    <tr>\n",
       "      <th>North Indian</th>\n",
       "      <td>559885</td>\n",
       "    </tr>\n",
       "    <tr>\n",
       "      <th>Pizza, Cafe, Italian</th>\n",
       "      <td>347520</td>\n",
       "    </tr>\n",
       "    <tr>\n",
       "      <th>Cafe, American, Burger, Steak</th>\n",
       "      <td>301059</td>\n",
       "    </tr>\n",
       "    <tr>\n",
       "      <th>North Indian, Chinese</th>\n",
       "      <td>259502</td>\n",
       "    </tr>\n",
       "    <tr>\n",
       "      <th>North Indian, Mughlai, South Indian, Chinese</th>\n",
       "      <td>227930</td>\n",
       "    </tr>\n",
       "  </tbody>\n",
       "</table>\n",
       "</div>"
      ],
      "text/plain": [
       "                                               votes\n",
       "cuisines                                            \n",
       "North Indian                                  559885\n",
       "Pizza, Cafe, Italian                          347520\n",
       "Cafe, American, Burger, Steak                 301059\n",
       "North Indian, Chinese                         259502\n",
       "North Indian, Mughlai, South Indian, Chinese  227930"
      ]
     },
     "execution_count": 66,
     "metadata": {},
     "output_type": "execute_result"
    }
   ],
   "source": [
    "df5 = df[['cuisines', 'votes']]\n",
    "df5.drop_duplicates()\n",
    "df5 = df5.groupby(['cuisines'])['votes'].sum()\n",
    "df5 = df5.to_frame()\n",
    "df5 = df5.sort_values(by = 'votes', ascending = False)\n",
    "df5.head()"
   ]
  },
  {
   "cell_type": "code",
   "execution_count": 67,
   "id": "b3f005b9",
   "metadata": {},
   "outputs": [
    {
     "name": "stderr",
     "output_type": "stream",
     "text": [
      "C:\\Users\\user\\anaconda3\\lib\\site-packages\\seaborn\\_decorators.py:36: FutureWarning: Pass the following variables as keyword args: x, y. From version 0.12, the only valid positional argument will be `data`, and passing other arguments without an explicit keyword will result in an error or misinterpretation.\n",
      "  warnings.warn(\n"
     ]
    },
    {
     "data": {
      "image/png": "[encoded data removed]",
      "text/plain": [
       "<Figure size 1080x576 with 1 Axes>"
      ]
     },
     "metadata": {
      "needs_background": "light"
     },
     "output_type": "display_data"
    }
   ],
   "source": [
    "plt.figure(figsize = (15,8))\n",
    "sns.barplot(df5.index[0:20], df5['votes'][0:20])\n",
    "plt.xticks(rotation = 90);"
   ]
  },
  {
   "cell_type": "markdown",
   "id": "b7623bc3",
   "metadata": {},
   "source": [
    "### Insight:\n",
    "\n",
    "* North Indian is the best Cuisines based on Votes given by the customers."
   ]
  },
  {
   "cell_type": "code",
   "execution_count": null,
   "id": "f75cf71f",
   "metadata": {},
   "outputs": [],
   "source": []
  }
 ],
 "metadata": {
  "kernelspec": {
   "display_name": "Python 3 (ipykernel)",
   "language": "python",
   "name": "python3"
  },
  "language_info": {
   "codemirror_mode": {
    "name": "ipython",
    "version": 3
   },
   "file_extension": ".py",
   "mimetype": "text/x-python",
   "name": "python",
   "nbconvert_exporter": "python",
   "pygments_lexer": "ipython3",
   "version": "3.9.7"
  }
 },
 "nbformat": 4,
 "nbformat_minor": 5
}
